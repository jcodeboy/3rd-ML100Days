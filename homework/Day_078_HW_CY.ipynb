{
 "cells": [
  {
   "cell_type": "markdown",
   "metadata": {},
   "source": [
    "## Work\n",
    "1. 請嘗試將 preproc_x 替換成以每筆資料的 min/max 進行標準化至 -1 ~ 1 間，再進行訓練\n",
    "2. 請嘗試將 mlp 疊更深 (e.g 5~10 層)，進行訓練後觀察 learning curve 的走勢\n",
    "3. (optional) 請改用 GPU 進行訓練 (如果你有 GPU 的話)，比較使用 CPU 與 GPU 的訓練速度"
   ]
  },
  {
   "cell_type": "code",
   "execution_count": 29,
   "metadata": {},
   "outputs": [
    {
     "name": "stdout",
     "output_type": "stream",
     "text": [
      "Sat Nov 30 22:35:39 2019       \n",
      "+-----------------------------------------------------------------------------+\n",
      "| NVIDIA-SMI 441.12       Driver Version: 441.12       CUDA Version: 10.2     |\n",
      "|-------------------------------+----------------------+----------------------+\n",
      "| GPU  Name            TCC/WDDM | Bus-Id        Disp.A | Volatile Uncorr. ECC |\n",
      "| Fan  Temp  Perf  Pwr:Usage/Cap|         Memory-Usage | GPU-Util  Compute M. |\n",
      "|===============================+======================+======================|\n",
      "|   0  GeForce GTX 1080   WDDM  | 00000000:01:00.0  On |                  N/A |\n",
      "|  0%   52C    P8    13W / 210W |   7221MiB /  8192MiB |      2%      Default |\n",
      "+-------------------------------+----------------------+----------------------+\n",
      "                                                                               \n",
      "+-----------------------------------------------------------------------------+\n",
      "| Processes:                                                       GPU Memory |\n",
      "|  GPU       PID   Type   Process name                             Usage      |\n",
      "|=============================================================================|\n",
      "|    0      1188    C+G   ...mmersiveControlPanel\\SystemSettings.exe N/A      |\n",
      "|    0      2424    C+G   ...20.510.0_x86__zpdnekdrzrea0\\Spotify.exe N/A      |\n",
      "|    0      4112      C   ...naconda3\\envs\\tensorflow-GPU\\python.exe N/A      |\n",
      "|    0      4836    C+G   ...t_cw5n1h2txyewy\\ShellExperienceHost.exe N/A      |\n",
      "|    0      4984    C+G   ...1.85.0_x64__8wekyb3d8bbwe\\YourPhone.exe N/A      |\n",
      "|    0      7444    C+G   C:\\Windows\\explorer.exe                    N/A      |\n",
      "|    0      8580    C+G   ...DIA GeForce Experience\\NVIDIA Share.exe N/A      |\n",
      "|    0      9300    C+G   ...osoft.LockApp_cw5n1h2txyewy\\LockApp.exe N/A      |\n",
      "|    0     10396    C+G   ...5n1h2txyewy\\StartMenuExperienceHost.exe N/A      |\n",
      "|    0     12432    C+G   ...6)\\Google\\Chrome\\Application\\chrome.exe N/A      |\n",
      "|    0     13332    C+G   ...dows.Cortana_cw5n1h2txyewy\\SearchUI.exe N/A      |\n",
      "|    0     13340    C+G   ...oftEdge_8wekyb3d8bbwe\\MicrosoftEdge.exe N/A      |\n",
      "|    0     13464    C+G   Insufficient Permissions                   N/A      |\n",
      "|    0     13708    C+G   ...54.91.0_x64__kzf8qxf38zg5c\\SkypeApp.exe N/A      |\n",
      "|    0     16556    C+G   ...10711.0_x64__8wekyb3d8bbwe\\Video.UI.exe N/A      |\n",
      "|    0     17448    C+G   ...63.0_x86__8xx8rvfyw5nnt\\WinUAPEntry.exe N/A      |\n",
      "|    0     18304    C+G   ...x64__8wekyb3d8bbwe\\Microsoft.Photos.exe N/A      |\n",
      "|    0     20036    C+G   ...hell.Experiences.TextInput.InputApp.exe N/A      |\n",
      "|    0     20244    C+G   ...0276.0_x64__8wekyb3d8bbwe\\HxOutlook.exe N/A      |\n",
      "|    0     21396    C+G   ...9.0_x64__8wekyb3d8bbwe\\WinStore.App.exe N/A      |\n",
      "+-----------------------------------------------------------------------------+\n"
     ]
    }
   ],
   "source": [
    "## \n",
    "\"\"\"\n",
    "Your code here (optional)\n",
    "確認硬體資源\n",
    "\"\"\"\n",
    "!nvidia-smi"
   ]
  },
  {
   "cell_type": "code",
   "execution_count": 30,
   "metadata": {},
   "outputs": [],
   "source": [
    "import os\n",
    "import keras\n",
    "\n",
    "# 請嘗試設定 GPU：os.environ\n"
   ]
  },
  {
   "cell_type": "code",
   "execution_count": 31,
   "metadata": {},
   "outputs": [],
   "source": [
    "train, test = keras.datasets.cifar10.load_data()"
   ]
  },
  {
   "cell_type": "code",
   "execution_count": 32,
   "metadata": {},
   "outputs": [],
   "source": [
    "## 資料前處理\n",
    "\"\"\"\n",
    "Your code here\n",
    "\"\"\"\n",
    "def preproc_x(x, flatten=True):\n",
    "    x = 2 * ((x-x.min()) / (x.max()-x.min())) - 1\n",
    "    if flatten:\n",
    "        x = x.reshape((len(x), -1))\n",
    "    return x\n",
    "\n",
    "def preproc_y(y, num_classes=10):\n",
    "    if y.shape[-1] == 1:\n",
    "        y = keras.utils.to_categorical(y, num_classes)\n",
    "    return y"
   ]
  },
  {
   "cell_type": "code",
   "execution_count": 33,
   "metadata": {},
   "outputs": [],
   "source": [
    "x_train, y_train = train\n",
    "x_test, y_test = test\n",
    "\n",
    "# Preproc the inputs\n",
    "x_train = preproc_x(x_train)\n",
    "x_test = preproc_x(x_test)\n",
    "\n",
    "# Preprc the outputs\n",
    "y_train = preproc_y(y_train)\n",
    "y_test = preproc_y(y_test)"
   ]
  },
  {
   "cell_type": "code",
   "execution_count": 34,
   "metadata": {},
   "outputs": [],
   "source": [
    "\"\"\"Code Here\n",
    "建立你的神經網路\n",
    "\"\"\"\n",
    "def build_mlp(input_shape, output_units=10, num_neurons=[512, 256, 128, 64, 32]):\n",
    "    input_layer = keras.layers.Input(input_shape)\n",
    "    \n",
    "    for i, n_units in enumerate(num_neurons):\n",
    "        if i == 0:\n",
    "            x = keras.layers.Dense(units=n_units, activation=\"relu\", name=\"hidden_layer\"+str(i+1))(input_layer)\n",
    "        else:\n",
    "            x = keras.layers.Dense(units=n_units, activation=\"relu\", name=\"hidden_layer\"+str(i+1))(x)\n",
    "    \n",
    "    out = keras.layers.Dense(units=output_units, activation=\"softmax\", name=\"output\")(x)\n",
    "    \n",
    "    model = keras.models.Model(inputs=[input_layer], outputs=[out])\n",
    "    return model"
   ]
  },
  {
   "cell_type": "code",
   "execution_count": 35,
   "metadata": {},
   "outputs": [
    {
     "name": "stdout",
     "output_type": "stream",
     "text": [
      "Model: \"model_2\"\n",
      "_________________________________________________________________\n",
      "Layer (type)                 Output Shape              Param #   \n",
      "=================================================================\n",
      "input_2 (InputLayer)         (None, 3072)              0         \n",
      "_________________________________________________________________\n",
      "hidden_layer1 (Dense)        (None, 512)               1573376   \n",
      "_________________________________________________________________\n",
      "hidden_layer2 (Dense)        (None, 256)               131328    \n",
      "_________________________________________________________________\n",
      "hidden_layer3 (Dense)        (None, 128)               32896     \n",
      "_________________________________________________________________\n",
      "hidden_layer4 (Dense)        (None, 64)                8256      \n",
      "_________________________________________________________________\n",
      "hidden_layer5 (Dense)        (None, 32)                2080      \n",
      "_________________________________________________________________\n",
      "output (Dense)               (None, 10)                330       \n",
      "=================================================================\n",
      "Total params: 1,748,266\n",
      "Trainable params: 1,748,266\n",
      "Non-trainable params: 0\n",
      "_________________________________________________________________\n"
     ]
    }
   ],
   "source": [
    "model = build_mlp(input_shape=x_train.shape[1:])\n",
    "model.summary()"
   ]
  },
  {
   "cell_type": "code",
   "execution_count": 36,
   "metadata": {},
   "outputs": [],
   "source": [
    "## 超參數設定\n",
    "LEARNING_RATE = 0.001\n",
    "EPOCHS = 100\n",
    "BATCH_SIZE = 256"
   ]
  },
  {
   "cell_type": "code",
   "execution_count": 37,
   "metadata": {},
   "outputs": [],
   "source": [
    "optimizer = keras.optimizers.Adam(lr=LEARNING_RATE)\n",
    "model.compile(loss=\"categorical_crossentropy\", metrics=[\"accuracy\"], optimizer=optimizer)"
   ]
  },
  {
   "cell_type": "code",
   "execution_count": 38,
   "metadata": {},
   "outputs": [
    {
     "name": "stdout",
     "output_type": "stream",
     "text": [
      "Train on 50000 samples, validate on 10000 samples\n",
      "Epoch 1/100\n",
      "50000/50000 [==============================] - 3s 53us/step - loss: 1.7245 - acc: 0.3890 - val_loss: 1.5582 - val_acc: 0.4398\n",
      "Epoch 2/100\n",
      "50000/50000 [==============================] - 2s 42us/step - loss: 1.4906 - acc: 0.4725 - val_loss: 1.4401 - val_acc: 0.4907\n",
      "Epoch 3/100\n",
      "50000/50000 [==============================] - 2s 42us/step - loss: 1.3645 - acc: 0.5166 - val_loss: 1.4039 - val_acc: 0.5006\n",
      "Epoch 4/100\n",
      "50000/50000 [==============================] - 2s 43us/step - loss: 1.2678 - acc: 0.5543 - val_loss: 1.3846 - val_acc: 0.5152\n",
      "Epoch 5/100\n",
      "50000/50000 [==============================] - 2s 42us/step - loss: 1.1867 - acc: 0.5828 - val_loss: 1.3648 - val_acc: 0.5268\n",
      "Epoch 6/100\n",
      "50000/50000 [==============================] - 2s 43us/step - loss: 1.1126 - acc: 0.6085 - val_loss: 1.3760 - val_acc: 0.5250\n",
      "Epoch 7/100\n",
      "50000/50000 [==============================] - 2s 42us/step - loss: 1.0355 - acc: 0.6353 - val_loss: 1.3733 - val_acc: 0.5317\n",
      "Epoch 8/100\n",
      "50000/50000 [==============================] - 2s 42us/step - loss: 0.9637 - acc: 0.6595 - val_loss: 1.3564 - val_acc: 0.5332\n",
      "Epoch 9/100\n",
      "50000/50000 [==============================] - 2s 42us/step - loss: 0.8976 - acc: 0.6813 - val_loss: 1.4114 - val_acc: 0.5285\n",
      "Epoch 10/100\n",
      "50000/50000 [==============================] - 2s 42us/step - loss: 0.8339 - acc: 0.7029 - val_loss: 1.4431 - val_acc: 0.5288\n",
      "Epoch 11/100\n",
      "50000/50000 [==============================] - 2s 42us/step - loss: 0.7638 - acc: 0.7307 - val_loss: 1.4916 - val_acc: 0.5334\n",
      "Epoch 12/100\n",
      "50000/50000 [==============================] - 2s 42us/step - loss: 0.7068 - acc: 0.7507 - val_loss: 1.5331 - val_acc: 0.5380\n",
      "Epoch 13/100\n",
      "50000/50000 [==============================] - 2s 42us/step - loss: 0.6433 - acc: 0.7746 - val_loss: 1.5987 - val_acc: 0.5251\n",
      "Epoch 14/100\n",
      "50000/50000 [==============================] - 2s 42us/step - loss: 0.5878 - acc: 0.7926 - val_loss: 1.6974 - val_acc: 0.5403\n",
      "Epoch 15/100\n",
      "50000/50000 [==============================] - 2s 42us/step - loss: 0.5456 - acc: 0.8059 - val_loss: 1.7681 - val_acc: 0.5312\n",
      "Epoch 16/100\n",
      "50000/50000 [==============================] - 2s 42us/step - loss: 0.4895 - acc: 0.8267 - val_loss: 1.8326 - val_acc: 0.5208\n",
      "Epoch 17/100\n",
      "50000/50000 [==============================] - 2s 42us/step - loss: 0.4536 - acc: 0.8419 - val_loss: 1.9271 - val_acc: 0.5352\n",
      "Epoch 18/100\n",
      "50000/50000 [==============================] - 2s 42us/step - loss: 0.4146 - acc: 0.8541 - val_loss: 2.0406 - val_acc: 0.5359\n",
      "Epoch 19/100\n",
      "50000/50000 [==============================] - 2s 42us/step - loss: 0.3751 - acc: 0.8686 - val_loss: 2.1098 - val_acc: 0.5275\n",
      "Epoch 20/100\n",
      "50000/50000 [==============================] - 2s 42us/step - loss: 0.3527 - acc: 0.8758 - val_loss: 2.3025 - val_acc: 0.5255\n",
      "Epoch 21/100\n",
      "50000/50000 [==============================] - 2s 42us/step - loss: 0.3168 - acc: 0.8885 - val_loss: 2.3203 - val_acc: 0.5270\n",
      "Epoch 22/100\n",
      "50000/50000 [==============================] - 2s 42us/step - loss: 0.3244 - acc: 0.8864 - val_loss: 2.3875 - val_acc: 0.5263\n",
      "Epoch 23/100\n",
      "50000/50000 [==============================] - 2s 42us/step - loss: 0.2776 - acc: 0.9031 - val_loss: 2.4416 - val_acc: 0.5314\n",
      "Epoch 24/100\n",
      "50000/50000 [==============================] - 2s 43us/step - loss: 0.2808 - acc: 0.9024 - val_loss: 2.5316 - val_acc: 0.5312\n",
      "Epoch 25/100\n",
      "50000/50000 [==============================] - 2s 43us/step - loss: 0.2433 - acc: 0.9134 - val_loss: 2.6150 - val_acc: 0.5319\n",
      "Epoch 26/100\n",
      "50000/50000 [==============================] - 2s 43us/step - loss: 0.2148 - acc: 0.9247 - val_loss: 2.7123 - val_acc: 0.5287\n",
      "Epoch 27/100\n",
      "50000/50000 [==============================] - 2s 42us/step - loss: 0.2357 - acc: 0.9180 - val_loss: 2.7253 - val_acc: 0.5257\n",
      "Epoch 28/100\n",
      "50000/50000 [==============================] - 2s 42us/step - loss: 0.2097 - acc: 0.9273 - val_loss: 2.7811 - val_acc: 0.5233\n",
      "Epoch 29/100\n",
      "50000/50000 [==============================] - 2s 43us/step - loss: 0.2062 - acc: 0.9287 - val_loss: 2.8839 - val_acc: 0.5258\n",
      "Epoch 30/100\n",
      "50000/50000 [==============================] - 2s 42us/step - loss: 0.1991 - acc: 0.9317 - val_loss: 2.8944 - val_acc: 0.5244\n",
      "Epoch 31/100\n",
      "50000/50000 [==============================] - 2s 42us/step - loss: 0.1873 - acc: 0.9349 - val_loss: 2.9613 - val_acc: 0.5260\n",
      "Epoch 32/100\n",
      "50000/50000 [==============================] - 2s 42us/step - loss: 0.1749 - acc: 0.9399 - val_loss: 3.0326 - val_acc: 0.5276\n",
      "Epoch 33/100\n",
      "50000/50000 [==============================] - 2s 42us/step - loss: 0.1832 - acc: 0.9370 - val_loss: 3.0353 - val_acc: 0.5215\n",
      "Epoch 34/100\n",
      "50000/50000 [==============================] - 2s 42us/step - loss: 0.1641 - acc: 0.9439 - val_loss: 3.1716 - val_acc: 0.5304\n",
      "Epoch 35/100\n",
      "50000/50000 [==============================] - 2s 43us/step - loss: 0.1411 - acc: 0.9509 - val_loss: 3.1627 - val_acc: 0.5272\n",
      "Epoch 36/100\n",
      "50000/50000 [==============================] - 2s 43us/step - loss: 0.1740 - acc: 0.9406 - val_loss: 3.1257 - val_acc: 0.5275\n",
      "Epoch 37/100\n",
      "50000/50000 [==============================] - 2s 43us/step - loss: 0.1587 - acc: 0.9461 - val_loss: 3.2371 - val_acc: 0.5196\n",
      "Epoch 38/100\n",
      "50000/50000 [==============================] - 2s 43us/step - loss: 0.1347 - acc: 0.9536 - val_loss: 3.3173 - val_acc: 0.5220\n",
      "Epoch 39/100\n",
      "50000/50000 [==============================] - 2s 42us/step - loss: 0.1419 - acc: 0.9515 - val_loss: 3.2740 - val_acc: 0.5203\n",
      "Epoch 40/100\n",
      "50000/50000 [==============================] - 2s 42us/step - loss: 0.1460 - acc: 0.9513 - val_loss: 3.2886 - val_acc: 0.5301\n",
      "Epoch 41/100\n",
      "50000/50000 [==============================] - 2s 42us/step - loss: 0.1440 - acc: 0.9515 - val_loss: 3.4011 - val_acc: 0.5321\n",
      "Epoch 42/100\n",
      "50000/50000 [==============================] - 2s 43us/step - loss: 0.1416 - acc: 0.9530 - val_loss: 3.3939 - val_acc: 0.5251\n",
      "Epoch 43/100\n",
      "50000/50000 [==============================] - 2s 42us/step - loss: 0.1265 - acc: 0.9571 - val_loss: 3.4153 - val_acc: 0.5270\n",
      "Epoch 44/100\n",
      "50000/50000 [==============================] - 2s 43us/step - loss: 0.1236 - acc: 0.9586 - val_loss: 3.4607 - val_acc: 0.5187\n",
      "Epoch 45/100\n",
      "50000/50000 [==============================] - 2s 43us/step - loss: 0.1525 - acc: 0.9491 - val_loss: 3.5065 - val_acc: 0.5204\n",
      "Epoch 46/100\n",
      "50000/50000 [==============================] - 2s 43us/step - loss: 0.1100 - acc: 0.9633 - val_loss: 3.4689 - val_acc: 0.5253\n",
      "Epoch 47/100\n",
      "50000/50000 [==============================] - 2s 43us/step - loss: 0.1057 - acc: 0.9649 - val_loss: 3.4662 - val_acc: 0.5213\n",
      "Epoch 48/100\n",
      "50000/50000 [==============================] - 2s 43us/step - loss: 0.1101 - acc: 0.9625 - val_loss: 3.4649 - val_acc: 0.5222\n",
      "Epoch 49/100\n",
      "50000/50000 [==============================] - 2s 43us/step - loss: 0.1330 - acc: 0.9553 - val_loss: 3.5422 - val_acc: 0.5205\n",
      "Epoch 50/100\n",
      "50000/50000 [==============================] - 2s 43us/step - loss: 0.1015 - acc: 0.9662 - val_loss: 3.5719 - val_acc: 0.5194\n",
      "Epoch 51/100\n",
      "50000/50000 [==============================] - 2s 43us/step - loss: 0.1270 - acc: 0.9574 - val_loss: 3.6337 - val_acc: 0.5255\n",
      "Epoch 52/100\n",
      "50000/50000 [==============================] - 2s 43us/step - loss: 0.1114 - acc: 0.9623 - val_loss: 3.6136 - val_acc: 0.5240\n",
      "Epoch 53/100\n",
      "50000/50000 [==============================] - 2s 43us/step - loss: 0.1043 - acc: 0.9647 - val_loss: 3.6106 - val_acc: 0.5356\n",
      "Epoch 54/100\n",
      "50000/50000 [==============================] - 2s 43us/step - loss: 0.1173 - acc: 0.9607 - val_loss: 3.6556 - val_acc: 0.5172\n",
      "Epoch 55/100\n",
      "50000/50000 [==============================] - 2s 43us/step - loss: 0.1037 - acc: 0.9662 - val_loss: 3.6798 - val_acc: 0.5232\n",
      "Epoch 56/100\n",
      "50000/50000 [==============================] - 2s 43us/step - loss: 0.0999 - acc: 0.9665 - val_loss: 3.6875 - val_acc: 0.5225\n",
      "Epoch 57/100\n",
      "50000/50000 [==============================] - 2s 43us/step - loss: 0.0928 - acc: 0.9692 - val_loss: 3.7532 - val_acc: 0.5209\n",
      "Epoch 58/100\n",
      "50000/50000 [==============================] - 2s 43us/step - loss: 0.1045 - acc: 0.9655 - val_loss: 3.7584 - val_acc: 0.5208\n",
      "Epoch 59/100\n"
     ]
    },
    {
     "name": "stdout",
     "output_type": "stream",
     "text": [
      "50000/50000 [==============================] - 2s 42us/step - loss: 0.1163 - acc: 0.9618 - val_loss: 3.6889 - val_acc: 0.5242\n",
      "Epoch 60/100\n",
      "50000/50000 [==============================] - 2s 42us/step - loss: 0.0972 - acc: 0.9674 - val_loss: 3.7818 - val_acc: 0.5275\n",
      "Epoch 61/100\n",
      "50000/50000 [==============================] - 2s 42us/step - loss: 0.0899 - acc: 0.9695 - val_loss: 3.8812 - val_acc: 0.5150\n",
      "Epoch 62/100\n",
      "50000/50000 [==============================] - 2s 42us/step - loss: 0.0976 - acc: 0.9684 - val_loss: 3.6773 - val_acc: 0.5268\n",
      "Epoch 63/100\n",
      "50000/50000 [==============================] - 2s 42us/step - loss: 0.0887 - acc: 0.9699 - val_loss: 3.8453 - val_acc: 0.5229\n",
      "Epoch 64/100\n",
      "50000/50000 [==============================] - 2s 42us/step - loss: 0.0929 - acc: 0.9699 - val_loss: 3.7159 - val_acc: 0.5255\n",
      "Epoch 65/100\n",
      "50000/50000 [==============================] - 2s 42us/step - loss: 0.0917 - acc: 0.9696 - val_loss: 3.7659 - val_acc: 0.5252\n",
      "Epoch 66/100\n",
      "50000/50000 [==============================] - 2s 42us/step - loss: 0.0944 - acc: 0.9689 - val_loss: 3.7024 - val_acc: 0.5217\n",
      "Epoch 67/100\n",
      "50000/50000 [==============================] - 2s 42us/step - loss: 0.0894 - acc: 0.9704 - val_loss: 3.7866 - val_acc: 0.5296\n",
      "Epoch 68/100\n",
      "50000/50000 [==============================] - 2s 42us/step - loss: 0.0852 - acc: 0.9718 - val_loss: 3.8648 - val_acc: 0.5242\n",
      "Epoch 69/100\n",
      "50000/50000 [==============================] - 2s 42us/step - loss: 0.0860 - acc: 0.9714 - val_loss: 3.7307 - val_acc: 0.5255\n",
      "Epoch 70/100\n",
      "50000/50000 [==============================] - 2s 42us/step - loss: 0.0859 - acc: 0.9721 - val_loss: 3.7497 - val_acc: 0.5280\n",
      "Epoch 71/100\n",
      "50000/50000 [==============================] - 2s 42us/step - loss: 0.0810 - acc: 0.9735 - val_loss: 3.9086 - val_acc: 0.5160\n",
      "Epoch 72/100\n",
      "50000/50000 [==============================] - 2s 42us/step - loss: 0.0889 - acc: 0.9711 - val_loss: 3.8428 - val_acc: 0.5199\n",
      "Epoch 73/100\n",
      "50000/50000 [==============================] - 2s 42us/step - loss: 0.0821 - acc: 0.9723 - val_loss: 3.9157 - val_acc: 0.5259\n",
      "Epoch 74/100\n",
      "50000/50000 [==============================] - 2s 42us/step - loss: 0.0973 - acc: 0.9692 - val_loss: 3.8062 - val_acc: 0.5290\n",
      "Epoch 75/100\n",
      "50000/50000 [==============================] - 2s 42us/step - loss: 0.0742 - acc: 0.9751 - val_loss: 3.9032 - val_acc: 0.5257\n",
      "Epoch 76/100\n",
      "50000/50000 [==============================] - 2s 42us/step - loss: 0.0839 - acc: 0.9724 - val_loss: 3.8590 - val_acc: 0.5262\n",
      "Epoch 77/100\n",
      "50000/50000 [==============================] - 2s 42us/step - loss: 0.1016 - acc: 0.9670 - val_loss: 3.8648 - val_acc: 0.5264\n",
      "Epoch 78/100\n",
      "50000/50000 [==============================] - 2s 43us/step - loss: 0.0717 - acc: 0.9761 - val_loss: 3.9062 - val_acc: 0.5256\n",
      "Epoch 79/100\n",
      "50000/50000 [==============================] - 2s 43us/step - loss: 0.0632 - acc: 0.9802 - val_loss: 3.8975 - val_acc: 0.5335\n",
      "Epoch 80/100\n",
      "50000/50000 [==============================] - 2s 43us/step - loss: 0.0529 - acc: 0.9829 - val_loss: 3.9846 - val_acc: 0.5275\n",
      "Epoch 81/100\n",
      "50000/50000 [==============================] - 2s 43us/step - loss: 0.0861 - acc: 0.9726 - val_loss: 3.9198 - val_acc: 0.5342\n",
      "Epoch 82/100\n",
      "50000/50000 [==============================] - 2s 42us/step - loss: 0.0776 - acc: 0.9744 - val_loss: 3.9611 - val_acc: 0.5222\n",
      "Epoch 83/100\n",
      "50000/50000 [==============================] - 2s 42us/step - loss: 0.0845 - acc: 0.9730 - val_loss: 3.9263 - val_acc: 0.5286\n",
      "Epoch 84/100\n",
      "50000/50000 [==============================] - 2s 43us/step - loss: 0.0738 - acc: 0.9765 - val_loss: 3.9007 - val_acc: 0.5324\n",
      "Epoch 85/100\n",
      "50000/50000 [==============================] - 2s 42us/step - loss: 0.0759 - acc: 0.9756 - val_loss: 4.0259 - val_acc: 0.5153\n",
      "Epoch 86/100\n",
      "50000/50000 [==============================] - 2s 43us/step - loss: 0.0914 - acc: 0.9710 - val_loss: 3.8080 - val_acc: 0.5297\n",
      "Epoch 87/100\n",
      "50000/50000 [==============================] - 2s 42us/step - loss: 0.0538 - acc: 0.9831 - val_loss: 3.9868 - val_acc: 0.5313\n",
      "Epoch 88/100\n",
      "50000/50000 [==============================] - 2s 42us/step - loss: 0.0361 - acc: 0.9887 - val_loss: 4.0792 - val_acc: 0.5285\n",
      "Epoch 89/100\n",
      "50000/50000 [==============================] - 2s 42us/step - loss: 0.0910 - acc: 0.9718 - val_loss: 4.0286 - val_acc: 0.5216\n",
      "Epoch 90/100\n",
      "50000/50000 [==============================] - 2s 43us/step - loss: 0.0676 - acc: 0.9780 - val_loss: 4.0712 - val_acc: 0.5287\n",
      "Epoch 91/100\n",
      "50000/50000 [==============================] - 2s 43us/step - loss: 0.0795 - acc: 0.9745 - val_loss: 3.9493 - val_acc: 0.5278\n",
      "Epoch 92/100\n",
      "50000/50000 [==============================] - 2s 43us/step - loss: 0.0700 - acc: 0.9773 - val_loss: 3.9008 - val_acc: 0.5336\n",
      "Epoch 93/100\n",
      "50000/50000 [==============================] - 2s 43us/step - loss: 0.0668 - acc: 0.9792 - val_loss: 4.0428 - val_acc: 0.5320\n",
      "Epoch 94/100\n",
      "50000/50000 [==============================] - 2s 43us/step - loss: 0.0749 - acc: 0.9768 - val_loss: 3.9176 - val_acc: 0.5308\n",
      "Epoch 95/100\n",
      "50000/50000 [==============================] - 2s 43us/step - loss: 0.0633 - acc: 0.9796 - val_loss: 4.1118 - val_acc: 0.5300\n",
      "Epoch 96/100\n",
      "50000/50000 [==============================] - 2s 43us/step - loss: 0.0628 - acc: 0.9800 - val_loss: 4.1680 - val_acc: 0.5276\n",
      "Epoch 97/100\n",
      "50000/50000 [==============================] - 2s 43us/step - loss: 0.0672 - acc: 0.9791 - val_loss: 3.9730 - val_acc: 0.5211\n",
      "Epoch 98/100\n",
      "50000/50000 [==============================] - 2s 42us/step - loss: 0.0553 - acc: 0.9821 - val_loss: 4.0061 - val_acc: 0.5167\n",
      "Epoch 99/100\n",
      "50000/50000 [==============================] - 2s 42us/step - loss: 0.0707 - acc: 0.9773 - val_loss: 4.0440 - val_acc: 0.5228\n",
      "Epoch 100/100\n",
      "50000/50000 [==============================] - 2s 43us/step - loss: 0.0659 - acc: 0.9781 - val_loss: 4.0555 - val_acc: 0.5297\n"
     ]
    },
    {
     "data": {
      "text/plain": [
       "<keras.callbacks.History at 0x26fdddb0f88>"
      ]
     },
     "execution_count": 38,
     "metadata": {},
     "output_type": "execute_result"
    }
   ],
   "source": [
    "model.fit(x_train, y_train, \n",
    "          epochs=EPOCHS, \n",
    "          batch_size=BATCH_SIZE, \n",
    "          validation_data=(x_test, y_test), \n",
    "          shuffle=True)"
   ]
  },
  {
   "cell_type": "code",
   "execution_count": 39,
   "metadata": {},
   "outputs": [
    {
     "data": {
      "image/png": "[encoded data removed]",
      "text/plain": [
       "<Figure size 432x288 with 1 Axes>"
      ]
     },
     "metadata": {
      "needs_background": "light"
     },
     "output_type": "display_data"
    },
    {
     "data": {
      "image/png": "[encoded data removed]",
      "text/plain": [
       "<Figure size 432x288 with 1 Axes>"
      ]
     },
     "metadata": {
      "needs_background": "light"
     },
     "output_type": "display_data"
    }
   ],
   "source": [
    "import matplotlib.pyplot as plt\n",
    "\n",
    "\n",
    "train_loss = model.history.history[\"loss\"]\n",
    "valid_loss = model.history.history[\"val_loss\"]\n",
    "\n",
    "train_acc = model.history.history[\"acc\"]\n",
    "valid_acc = model.history.history[\"val_acc\"]\n",
    "\n",
    "plt.plot(range(len(train_loss)), train_loss, label=\"train loss\")\n",
    "plt.plot(range(len(valid_loss)), valid_loss, label=\"valid loss\")\n",
    "plt.legend()\n",
    "plt.title(\"Loss\")\n",
    "plt.show()\n",
    "\n",
    "plt.plot(range(len(train_acc)), train_acc, label=\"train accuracy\")\n",
    "plt.plot(range(len(valid_acc)), valid_acc, label=\"valid accuracy\")\n",
    "plt.legend()\n",
    "plt.title(\"Accuracy\")\n",
    "plt.show()"
   ]
  }
 ],
 "metadata": {
  "kernelspec": {
   "display_name": "Python 3",
   "language": "python",
   "name": "python3"
  },
  "language_info": {
   "codemirror_mode": {
    "name": "ipython",
    "version": 3
   },
   "file_extension": ".py",
   "mimetype": "text/x-python",
   "name": "python",
   "nbconvert_exporter": "python",
   "pygments_lexer": "ipython3",
   "version": "3.7.4"
  }
 },
 "nbformat": 4,
 "nbformat_minor": 2
}
