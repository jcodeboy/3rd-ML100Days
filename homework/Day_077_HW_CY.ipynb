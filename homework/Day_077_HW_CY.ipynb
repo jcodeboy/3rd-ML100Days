{
 "cells": [
  {
   "cell_type": "markdown",
   "metadata": {},
   "source": [
    "## Work\n",
    "1. 請將 Epoch 加到 500 個，並觀察 learning curve 的走勢\n",
    "2. 請將 Optimizer 換成 SGD，並觀察 learning curve 的走勢"
   ]
  },
  {
   "cell_type": "code",
   "execution_count": 1,
   "metadata": {},
   "outputs": [
    {
     "name": "stderr",
     "output_type": "stream",
     "text": [
      "Using TensorFlow backend.\n"
     ]
    }
   ],
   "source": [
    "import os\n",
    "import keras\n",
    "\n",
    "# 本作業可以不需使用 GPU, 將 GPU 設定為 \"無\" (若有 GPU 且想開啟，可設為 \"0\")\n",
    "os.environ[\"CUDA_VISIBLE_DEVICES\"] = \"\""
   ]
  },
  {
   "cell_type": "code",
   "execution_count": 2,
   "metadata": {},
   "outputs": [],
   "source": [
    "# 從 Keras 的內建功能中，取得 train 與 test 資料集\n",
    "train, test = keras.datasets.cifar10.load_data()"
   ]
  },
  {
   "cell_type": "code",
   "execution_count": 3,
   "metadata": {},
   "outputs": [],
   "source": [
    "# 將 X 與 Y 獨立放進變數\n",
    "x_train, y_train = train\n",
    "x_test, y_test = test\n",
    "# 資料前處理 - 標準化\n",
    "x_train = x_train / 255.\n",
    "x_test = x_test / 255.\n",
    "\n",
    "# 將資料從圖形 (RGB) 轉為向量 (Single Vector)\n",
    "x_train = x_train.reshape((len(x_train), -1))\n",
    "x_test = x_test.reshape((len(x_test), -1))\n",
    "\n",
    "# 將目標轉為 one-hot encoding\n",
    "y_train = keras.utils.to_categorical(y_train, num_classes=10)\n",
    "y_test = keras.utils.to_categorical(y_test, num_classes=10)"
   ]
  },
  {
   "cell_type": "code",
   "execution_count": 4,
   "metadata": {},
   "outputs": [
    {
     "name": "stderr",
     "output_type": "stream",
     "text": [
      "WARNING: Logging before flag parsing goes to stderr.\n",
      "W1130 21:50:30.400144  8648 deprecation_wrapper.py:119] From C:\\Users\\jcodeboy\\Anaconda3\\envs\\tensorflow-GPU\\lib\\site-packages\\keras\\backend\\tensorflow_backend.py:66: The name tf.get_default_graph is deprecated. Please use tf.compat.v1.get_default_graph instead.\n",
      "\n",
      "W1130 21:50:30.412113  8648 deprecation_wrapper.py:119] From C:\\Users\\jcodeboy\\Anaconda3\\envs\\tensorflow-GPU\\lib\\site-packages\\keras\\backend\\tensorflow_backend.py:541: The name tf.placeholder is deprecated. Please use tf.compat.v1.placeholder instead.\n",
      "\n",
      "W1130 21:50:30.415104  8648 deprecation_wrapper.py:119] From C:\\Users\\jcodeboy\\Anaconda3\\envs\\tensorflow-GPU\\lib\\site-packages\\keras\\backend\\tensorflow_backend.py:4432: The name tf.random_uniform is deprecated. Please use tf.random.uniform instead.\n",
      "\n"
     ]
    }
   ],
   "source": [
    "def build_mlp():\n",
    "    \"\"\"Code Here\n",
    "    建立你的神經網路\n",
    "    \"\"\"\n",
    "    input_layer = keras.layers.Input([x_train.shape[-1]])\n",
    "    x = keras.layers.Dense(units=512, activation=\"relu\")(input_layer)\n",
    "    x = keras.layers.Dense(units=256, activation=\"relu\")(x)\n",
    "    x = keras.layers.Dense(units=128, activation=\"relu\")(x)\n",
    "    out = keras.layers.Dense(units=10, activation=\"softmax\")(x)\n",
    "    \n",
    "    model = keras.models.Model(inputs=[input_layer], outputs=[out])\n",
    "\n",
    "    return model\n",
    "model = build_mlp()"
   ]
  },
  {
   "cell_type": "code",
   "execution_count": 5,
   "metadata": {},
   "outputs": [
    {
     "name": "stderr",
     "output_type": "stream",
     "text": [
      "W1130 21:50:33.206115  8648 deprecation_wrapper.py:119] From C:\\Users\\jcodeboy\\Anaconda3\\envs\\tensorflow-GPU\\lib\\site-packages\\keras\\optimizers.py:793: The name tf.train.Optimizer is deprecated. Please use tf.compat.v1.train.Optimizer instead.\n",
      "\n",
      "W1130 21:50:33.211072  8648 deprecation_wrapper.py:119] From C:\\Users\\jcodeboy\\Anaconda3\\envs\\tensorflow-GPU\\lib\\site-packages\\keras\\backend\\tensorflow_backend.py:3576: The name tf.log is deprecated. Please use tf.math.log instead.\n",
      "\n"
     ]
    },
    {
     "name": "stdout",
     "output_type": "stream",
     "text": [
      "Model: \"model_2\"\n",
      "_________________________________________________________________\n",
      "Layer (type)                 Output Shape              Param #   \n",
      "=================================================================\n",
      "input_2 (InputLayer)         (None, 3072)              0         \n",
      "_________________________________________________________________\n",
      "dense_5 (Dense)              (None, 512)               1573376   \n",
      "_________________________________________________________________\n",
      "dense_6 (Dense)              (None, 256)               131328    \n",
      "_________________________________________________________________\n",
      "dense_7 (Dense)              (None, 128)               32896     \n",
      "_________________________________________________________________\n",
      "dense_8 (Dense)              (None, 10)                1290      \n",
      "=================================================================\n",
      "Total params: 1,738,890\n",
      "Trainable params: 1,738,890\n",
      "Non-trainable params: 0\n",
      "_________________________________________________________________\n"
     ]
    }
   ],
   "source": [
    "\"\"\"\n",
    "Compile 模型\n",
    "\"\"\"\n",
    "\n",
    "model = build_mlp()\n",
    "# 用 Keras 內建方法檢視模型各層參數量\n",
    "model.summary()\n",
    "\n",
    "optimizer = keras.optimizers.Adam(lr=0.001)\n",
    "model.compile(loss=\"categorical_crossentropy\", metrics=[\"accuracy\"], optimizer=optimizer)"
   ]
  },
  {
   "cell_type": "code",
   "execution_count": 7,
   "metadata": {
    "scrolled": true
   },
   "outputs": [
    {
     "name": "stderr",
     "output_type": "stream",
     "text": [
      "W1130 21:50:50.736141  8648 deprecation.py:323] From C:\\Users\\jcodeboy\\Anaconda3\\envs\\tensorflow-GPU\\lib\\site-packages\\tensorflow\\python\\ops\\math_grad.py:1250: add_dispatch_support.<locals>.wrapper (from tensorflow.python.ops.array_ops) is deprecated and will be removed in a future version.\n",
      "Instructions for updating:\n",
      "Use tf.where in 2.0, which has the same broadcast rule as np.where\n",
      "W1130 21:50:50.778052  8648 deprecation_wrapper.py:119] From C:\\Users\\jcodeboy\\Anaconda3\\envs\\tensorflow-GPU\\lib\\site-packages\\keras\\backend\\tensorflow_backend.py:1033: The name tf.assign_add is deprecated. Please use tf.compat.v1.assign_add instead.\n",
      "\n"
     ]
    },
    {
     "name": "stdout",
     "output_type": "stream",
     "text": [
      "Train on 50000 samples, validate on 10000 samples\n",
      "Epoch 1/100\n",
      "50000/50000 [==============================] - 3s 68us/step - loss: 1.9574 - acc: 0.2885 - val_loss: 1.7627 - val_acc: 0.3717\n",
      "Epoch 2/100\n",
      "50000/50000 [==============================] - 2s 41us/step - loss: 1.7146 - acc: 0.3868 - val_loss: 1.6841 - val_acc: 0.4016\n",
      "Epoch 3/100\n",
      "50000/50000 [==============================] - 2s 41us/step - loss: 1.6221 - acc: 0.4200 - val_loss: 1.6729 - val_acc: 0.4044\n",
      "Epoch 4/100\n",
      "50000/50000 [==============================] - 2s 41us/step - loss: 1.5663 - acc: 0.4424 - val_loss: 1.5594 - val_acc: 0.4430\n",
      "Epoch 5/100\n",
      "50000/50000 [==============================] - 2s 41us/step - loss: 1.5156 - acc: 0.4603 - val_loss: 1.4952 - val_acc: 0.4684\n",
      "Epoch 6/100\n",
      "50000/50000 [==============================] - 2s 41us/step - loss: 1.4736 - acc: 0.4741 - val_loss: 1.4834 - val_acc: 0.4713\n",
      "Epoch 7/100\n",
      "50000/50000 [==============================] - 2s 42us/step - loss: 1.4504 - acc: 0.4837 - val_loss: 1.4634 - val_acc: 0.4792\n",
      "Epoch 8/100\n",
      "50000/50000 [==============================] - 2s 42us/step - loss: 1.4169 - acc: 0.4930 - val_loss: 1.4819 - val_acc: 0.4662\n",
      "Epoch 9/100\n",
      "50000/50000 [==============================] - 2s 41us/step - loss: 1.3849 - acc: 0.5062 - val_loss: 1.4706 - val_acc: 0.4785\n",
      "Epoch 10/100\n",
      "50000/50000 [==============================] - 2s 41us/step - loss: 1.3648 - acc: 0.5148 - val_loss: 1.4283 - val_acc: 0.4965\n",
      "Epoch 11/100\n",
      "50000/50000 [==============================] - 2s 41us/step - loss: 1.3422 - acc: 0.5216 - val_loss: 1.4374 - val_acc: 0.4875\n",
      "Epoch 12/100\n",
      "50000/50000 [==============================] - 2s 41us/step - loss: 1.3118 - acc: 0.5323 - val_loss: 1.3857 - val_acc: 0.5114\n",
      "Epoch 13/100\n",
      "50000/50000 [==============================] - 2s 41us/step - loss: 1.2951 - acc: 0.5385 - val_loss: 1.3996 - val_acc: 0.5062\n",
      "Epoch 14/100\n",
      "50000/50000 [==============================] - 2s 41us/step - loss: 1.2719 - acc: 0.5475 - val_loss: 1.4110 - val_acc: 0.4984\n",
      "Epoch 15/100\n",
      "50000/50000 [==============================] - 2s 41us/step - loss: 1.2528 - acc: 0.5552 - val_loss: 1.3763 - val_acc: 0.5060\n",
      "Epoch 16/100\n",
      "50000/50000 [==============================] - 2s 41us/step - loss: 1.2333 - acc: 0.5601 - val_loss: 1.4017 - val_acc: 0.5051\n",
      "Epoch 17/100\n",
      "50000/50000 [==============================] - 2s 41us/step - loss: 1.2147 - acc: 0.5674 - val_loss: 1.3742 - val_acc: 0.5200\n",
      "Epoch 18/100\n",
      "50000/50000 [==============================] - 2s 41us/step - loss: 1.1844 - acc: 0.5780 - val_loss: 1.3731 - val_acc: 0.5176\n",
      "Epoch 19/100\n",
      "50000/50000 [==============================] - 2s 42us/step - loss: 1.1763 - acc: 0.5798 - val_loss: 1.3544 - val_acc: 0.5180\n",
      "Epoch 20/100\n",
      "50000/50000 [==============================] - 2s 41us/step - loss: 1.1561 - acc: 0.5882 - val_loss: 1.3592 - val_acc: 0.5174\n",
      "Epoch 21/100\n",
      "50000/50000 [==============================] - 2s 42us/step - loss: 1.1413 - acc: 0.5921 - val_loss: 1.3619 - val_acc: 0.5157\n",
      "Epoch 22/100\n",
      "50000/50000 [==============================] - 2s 42us/step - loss: 1.1203 - acc: 0.6007 - val_loss: 1.3979 - val_acc: 0.5124\n",
      "Epoch 23/100\n",
      "50000/50000 [==============================] - 2s 42us/step - loss: 1.0943 - acc: 0.6105 - val_loss: 1.3478 - val_acc: 0.5279\n",
      "Epoch 24/100\n",
      "50000/50000 [==============================] - 2s 42us/step - loss: 1.0771 - acc: 0.6146 - val_loss: 1.3823 - val_acc: 0.5260\n",
      "Epoch 25/100\n",
      "50000/50000 [==============================] - 2s 41us/step - loss: 1.0713 - acc: 0.6188 - val_loss: 1.3783 - val_acc: 0.5189\n",
      "Epoch 26/100\n",
      "50000/50000 [==============================] - 2s 41us/step - loss: 1.0345 - acc: 0.6321 - val_loss: 1.4202 - val_acc: 0.5140\n",
      "Epoch 27/100\n",
      "50000/50000 [==============================] - 2s 41us/step - loss: 1.0289 - acc: 0.6326 - val_loss: 1.4026 - val_acc: 0.5249\n",
      "Epoch 28/100\n",
      "50000/50000 [==============================] - 2s 41us/step - loss: 1.0088 - acc: 0.6401 - val_loss: 1.3969 - val_acc: 0.5275\n",
      "Epoch 29/100\n",
      "50000/50000 [==============================] - 2s 41us/step - loss: 1.0021 - acc: 0.6431 - val_loss: 1.3837 - val_acc: 0.5298\n",
      "Epoch 30/100\n",
      "50000/50000 [==============================] - 2s 41us/step - loss: 0.9701 - acc: 0.6537 - val_loss: 1.3917 - val_acc: 0.5248\n",
      "Epoch 31/100\n",
      "50000/50000 [==============================] - 2s 41us/step - loss: 0.9511 - acc: 0.6598 - val_loss: 1.4205 - val_acc: 0.5237\n",
      "Epoch 32/100\n",
      "50000/50000 [==============================] - 2s 41us/step - loss: 0.9372 - acc: 0.6669 - val_loss: 1.4657 - val_acc: 0.5100\n",
      "Epoch 33/100\n",
      "50000/50000 [==============================] - 2s 41us/step - loss: 0.9175 - acc: 0.6736 - val_loss: 1.4543 - val_acc: 0.5220\n",
      "Epoch 34/100\n",
      "50000/50000 [==============================] - 2s 41us/step - loss: 0.9032 - acc: 0.6797 - val_loss: 1.4689 - val_acc: 0.5168\n",
      "Epoch 35/100\n",
      "50000/50000 [==============================] - 2s 41us/step - loss: 0.8861 - acc: 0.6844 - val_loss: 1.4614 - val_acc: 0.5213\n",
      "Epoch 36/100\n",
      "50000/50000 [==============================] - 2s 41us/step - loss: 0.8720 - acc: 0.6909 - val_loss: 1.4688 - val_acc: 0.5279\n",
      "Epoch 37/100\n",
      "50000/50000 [==============================] - 2s 41us/step - loss: 0.8617 - acc: 0.6925 - val_loss: 1.4835 - val_acc: 0.5258\n",
      "Epoch 38/100\n",
      "50000/50000 [==============================] - 2s 41us/step - loss: 0.8496 - acc: 0.6992 - val_loss: 1.4705 - val_acc: 0.5291\n",
      "Epoch 39/100\n",
      "50000/50000 [==============================] - 2s 41us/step - loss: 0.8377 - acc: 0.6997 - val_loss: 1.5540 - val_acc: 0.5178\n",
      "Epoch 40/100\n",
      "50000/50000 [==============================] - 2s 41us/step - loss: 0.8027 - acc: 0.7132 - val_loss: 1.5585 - val_acc: 0.5223\n",
      "Epoch 41/100\n",
      "50000/50000 [==============================] - 2s 41us/step - loss: 0.8034 - acc: 0.7128 - val_loss: 1.5631 - val_acc: 0.5200\n",
      "Epoch 42/100\n",
      "50000/50000 [==============================] - 2s 41us/step - loss: 0.7790 - acc: 0.7197 - val_loss: 1.5577 - val_acc: 0.5185\n",
      "Epoch 43/100\n",
      "50000/50000 [==============================] - 2s 41us/step - loss: 0.7626 - acc: 0.7300 - val_loss: 1.6331 - val_acc: 0.5102\n",
      "Epoch 44/100\n",
      "50000/50000 [==============================] - 2s 41us/step - loss: 0.7544 - acc: 0.7312 - val_loss: 1.5822 - val_acc: 0.5238\n",
      "Epoch 45/100\n",
      "50000/50000 [==============================] - 2s 41us/step - loss: 0.7449 - acc: 0.7334 - val_loss: 1.5665 - val_acc: 0.5291\n",
      "Epoch 46/100\n",
      "50000/50000 [==============================] - 2s 41us/step - loss: 0.7355 - acc: 0.7377 - val_loss: 1.6231 - val_acc: 0.5165\n",
      "Epoch 47/100\n",
      "50000/50000 [==============================] - 2s 41us/step - loss: 0.7044 - acc: 0.7500 - val_loss: 1.7565 - val_acc: 0.5023\n",
      "Epoch 48/100\n",
      "50000/50000 [==============================] - 2s 41us/step - loss: 0.7013 - acc: 0.7503 - val_loss: 1.6861 - val_acc: 0.5201\n",
      "Epoch 49/100\n",
      "50000/50000 [==============================] - 2s 41us/step - loss: 0.6877 - acc: 0.7564 - val_loss: 1.7155 - val_acc: 0.5176\n",
      "Epoch 50/100\n",
      "50000/50000 [==============================] - 2s 41us/step - loss: 0.6831 - acc: 0.7583 - val_loss: 1.7487 - val_acc: 0.5131\n",
      "Epoch 51/100\n",
      "50000/50000 [==============================] - 2s 41us/step - loss: 0.6605 - acc: 0.7636 - val_loss: 1.7217 - val_acc: 0.5117\n",
      "Epoch 52/100\n",
      "50000/50000 [==============================] - 2s 41us/step - loss: 0.6484 - acc: 0.7672 - val_loss: 1.7543 - val_acc: 0.5150\n",
      "Epoch 53/100\n",
      "50000/50000 [==============================] - 2s 41us/step - loss: 0.6373 - acc: 0.7706 - val_loss: 1.8218 - val_acc: 0.5118\n",
      "Epoch 54/100\n",
      "50000/50000 [==============================] - 2s 41us/step - loss: 0.6382 - acc: 0.7723 - val_loss: 1.7873 - val_acc: 0.5097\n",
      "Epoch 55/100\n",
      "50000/50000 [==============================] - 2s 41us/step - loss: 0.6100 - acc: 0.7820 - val_loss: 1.8282 - val_acc: 0.5143\n",
      "Epoch 56/100\n",
      "50000/50000 [==============================] - 2s 41us/step - loss: 0.5996 - acc: 0.7867 - val_loss: 1.8371 - val_acc: 0.5116\n",
      "Epoch 57/100\n",
      "50000/50000 [==============================] - 2s 41us/step - loss: 0.5926 - acc: 0.7856 - val_loss: 1.8577 - val_acc: 0.5091\n",
      "Epoch 58/100\n",
      "50000/50000 [==============================] - 2s 41us/step - loss: 0.5834 - acc: 0.7917 - val_loss: 1.9253 - val_acc: 0.5009\n",
      "Epoch 59/100\n"
     ]
    },
    {
     "name": "stdout",
     "output_type": "stream",
     "text": [
      "50000/50000 [==============================] - 2s 41us/step - loss: 0.5810 - acc: 0.7934 - val_loss: 1.9426 - val_acc: 0.5064\n",
      "Epoch 60/100\n",
      "50000/50000 [==============================] - 2s 41us/step - loss: 0.5652 - acc: 0.7991 - val_loss: 1.9915 - val_acc: 0.5022\n",
      "Epoch 61/100\n",
      "50000/50000 [==============================] - 2s 40us/step - loss: 0.5464 - acc: 0.8041 - val_loss: 2.0045 - val_acc: 0.5029\n",
      "Epoch 62/100\n",
      "50000/50000 [==============================] - 2s 41us/step - loss: 0.5400 - acc: 0.8067 - val_loss: 2.0162 - val_acc: 0.5058\n",
      "Epoch 63/100\n",
      "50000/50000 [==============================] - 2s 41us/step - loss: 0.5297 - acc: 0.8073 - val_loss: 2.0548 - val_acc: 0.5087\n",
      "Epoch 64/100\n",
      "50000/50000 [==============================] - 2s 40us/step - loss: 0.5247 - acc: 0.8127 - val_loss: 2.0740 - val_acc: 0.5087\n",
      "Epoch 65/100\n",
      "50000/50000 [==============================] - 2s 41us/step - loss: 0.5249 - acc: 0.8120 - val_loss: 2.0864 - val_acc: 0.5024\n",
      "Epoch 66/100\n",
      "50000/50000 [==============================] - 2s 42us/step - loss: 0.4989 - acc: 0.8227 - val_loss: 2.1593 - val_acc: 0.5007\n",
      "Epoch 67/100\n",
      "50000/50000 [==============================] - 2s 41us/step - loss: 0.4980 - acc: 0.8239 - val_loss: 2.1476 - val_acc: 0.5100\n",
      "Epoch 68/100\n",
      "50000/50000 [==============================] - 2s 40us/step - loss: 0.5021 - acc: 0.8192 - val_loss: 2.1315 - val_acc: 0.5034\n",
      "Epoch 69/100\n",
      "50000/50000 [==============================] - 2s 41us/step - loss: 0.4918 - acc: 0.8243 - val_loss: 2.1498 - val_acc: 0.5104\n",
      "Epoch 70/100\n",
      "50000/50000 [==============================] - 2s 41us/step - loss: 0.4613 - acc: 0.8343 - val_loss: 2.2152 - val_acc: 0.5113\n",
      "Epoch 71/100\n",
      "50000/50000 [==============================] - 2s 41us/step - loss: 0.4765 - acc: 0.8286 - val_loss: 2.2774 - val_acc: 0.5030\n",
      "Epoch 72/100\n",
      "50000/50000 [==============================] - 2s 41us/step - loss: 0.4449 - acc: 0.8405 - val_loss: 2.2679 - val_acc: 0.5050\n",
      "Epoch 73/100\n",
      "50000/50000 [==============================] - 2s 41us/step - loss: 0.4392 - acc: 0.8437 - val_loss: 2.3388 - val_acc: 0.4975\n",
      "Epoch 74/100\n",
      "50000/50000 [==============================] - 2s 41us/step - loss: 0.4479 - acc: 0.8374 - val_loss: 2.4141 - val_acc: 0.5027\n",
      "Epoch 75/100\n",
      "50000/50000 [==============================] - 2s 41us/step - loss: 0.4489 - acc: 0.8376 - val_loss: 2.3123 - val_acc: 0.5041\n",
      "Epoch 76/100\n",
      "50000/50000 [==============================] - 2s 41us/step - loss: 0.4211 - acc: 0.8490 - val_loss: 2.3932 - val_acc: 0.5088\n",
      "Epoch 77/100\n",
      "50000/50000 [==============================] - 2s 41us/step - loss: 0.4217 - acc: 0.8480 - val_loss: 2.3486 - val_acc: 0.5036\n",
      "Epoch 78/100\n",
      "50000/50000 [==============================] - 2s 41us/step - loss: 0.4174 - acc: 0.8495 - val_loss: 2.4161 - val_acc: 0.5047\n",
      "Epoch 79/100\n",
      "50000/50000 [==============================] - 2s 41us/step - loss: 0.4203 - acc: 0.8473 - val_loss: 2.5104 - val_acc: 0.4996\n",
      "Epoch 80/100\n",
      "50000/50000 [==============================] - 2s 41us/step - loss: 0.4061 - acc: 0.8532 - val_loss: 2.5407 - val_acc: 0.5093\n",
      "Epoch 81/100\n",
      "50000/50000 [==============================] - 2s 41us/step - loss: 0.4042 - acc: 0.8528 - val_loss: 2.4837 - val_acc: 0.5074\n",
      "Epoch 82/100\n",
      "50000/50000 [==============================] - 2s 41us/step - loss: 0.3822 - acc: 0.8619 - val_loss: 2.5886 - val_acc: 0.4965\n",
      "Epoch 83/100\n",
      "50000/50000 [==============================] - 2s 41us/step - loss: 0.3749 - acc: 0.8642 - val_loss: 2.5202 - val_acc: 0.5031\n",
      "Epoch 84/100\n",
      "50000/50000 [==============================] - 2s 41us/step - loss: 0.3828 - acc: 0.8628 - val_loss: 2.5627 - val_acc: 0.5073\n",
      "Epoch 85/100\n",
      "50000/50000 [==============================] - 2s 41us/step - loss: 0.3814 - acc: 0.8632 - val_loss: 2.7019 - val_acc: 0.4961\n",
      "Epoch 86/100\n",
      "50000/50000 [==============================] - 2s 41us/step - loss: 0.3658 - acc: 0.8702 - val_loss: 2.5813 - val_acc: 0.4981\n",
      "Epoch 87/100\n",
      "50000/50000 [==============================] - 2s 41us/step - loss: 0.3559 - acc: 0.8720 - val_loss: 2.6908 - val_acc: 0.5049\n",
      "Epoch 88/100\n",
      "50000/50000 [==============================] - 2s 41us/step - loss: 0.3615 - acc: 0.8703 - val_loss: 2.6889 - val_acc: 0.5012\n",
      "Epoch 89/100\n",
      "50000/50000 [==============================] - 2s 41us/step - loss: 0.3598 - acc: 0.8706 - val_loss: 2.6117 - val_acc: 0.5067\n",
      "Epoch 90/100\n",
      "50000/50000 [==============================] - 2s 41us/step - loss: 0.3574 - acc: 0.8705 - val_loss: 2.8114 - val_acc: 0.4996\n",
      "Epoch 91/100\n",
      "50000/50000 [==============================] - 2s 41us/step - loss: 0.3392 - acc: 0.8771 - val_loss: 2.7386 - val_acc: 0.5009\n",
      "Epoch 92/100\n",
      "50000/50000 [==============================] - 2s 41us/step - loss: 0.3575 - acc: 0.8704 - val_loss: 2.7905 - val_acc: 0.5043\n",
      "Epoch 93/100\n",
      "50000/50000 [==============================] - 2s 41us/step - loss: 0.3272 - acc: 0.8832 - val_loss: 2.7916 - val_acc: 0.4999\n",
      "Epoch 94/100\n",
      "50000/50000 [==============================] - 2s 41us/step - loss: 0.3228 - acc: 0.8848 - val_loss: 2.8798 - val_acc: 0.4954\n",
      "Epoch 95/100\n",
      "50000/50000 [==============================] - 2s 41us/step - loss: 0.3244 - acc: 0.8840 - val_loss: 2.9453 - val_acc: 0.4914\n",
      "Epoch 96/100\n",
      "50000/50000 [==============================] - 2s 41us/step - loss: 0.3402 - acc: 0.8771 - val_loss: 2.8393 - val_acc: 0.4956\n",
      "Epoch 97/100\n",
      "50000/50000 [==============================] - 2s 41us/step - loss: 0.3196 - acc: 0.8843 - val_loss: 2.8460 - val_acc: 0.4958\n",
      "Epoch 98/100\n",
      "50000/50000 [==============================] - 2s 41us/step - loss: 0.3098 - acc: 0.8886 - val_loss: 2.9022 - val_acc: 0.4992\n",
      "Epoch 99/100\n",
      "50000/50000 [==============================] - 2s 41us/step - loss: 0.3099 - acc: 0.8885 - val_loss: 2.9855 - val_acc: 0.5002\n",
      "Epoch 100/100\n",
      "50000/50000 [==============================] - 2s 41us/step - loss: 0.3298 - acc: 0.8815 - val_loss: 2.9479 - val_acc: 0.4987\n"
     ]
    },
    {
     "data": {
      "text/plain": [
       "<keras.callbacks.History at 0x1fdd7c3fd88>"
      ]
     },
     "execution_count": 7,
     "metadata": {},
     "output_type": "execute_result"
    }
   ],
   "source": [
    "\"\"\"\n",
    "設定要訓練的 Epoch 數\n",
    "\"\"\"\n",
    "model.fit(x_train, y_train, \n",
    "          epochs=100, \n",
    "          batch_size=256, \n",
    "          validation_data=(x_test, y_test), \n",
    "          shuffle=True)"
   ]
  },
  {
   "cell_type": "code",
   "execution_count": 9,
   "metadata": {},
   "outputs": [
    {
     "data": {
      "image/png": "[encoded data removed]",
      "text/plain": [
       "<Figure size 432x288 with 1 Axes>"
      ]
     },
     "metadata": {
      "needs_background": "light"
     },
     "output_type": "display_data"
    },
    {
     "data": {
      "image/png": "[encoded data removed]",
      "text/plain": [
       "<Figure size 432x288 with 1 Axes>"
      ]
     },
     "metadata": {
      "needs_background": "light"
     },
     "output_type": "display_data"
    }
   ],
   "source": [
    "import matplotlib.pyplot as plt\n",
    "# 以視覺畫方式檢視訓練過程\n",
    "\n",
    "train_loss = model.history.history[\"loss\"]\n",
    "valid_loss = model.history.history[\"val_loss\"]\n",
    "\n",
    "train_acc = model.history.history[\"acc\"]\n",
    "valid_acc = model.history.history[\"val_acc\"]\n",
    "\n",
    "plt.plot(range(len(train_loss)), train_loss, label=\"train loss\")\n",
    "plt.plot(range(len(valid_loss)), valid_loss, label=\"valid loss\")\n",
    "plt.legend()\n",
    "plt.title(\"Loss\")\n",
    "plt.show()\n",
    "\n",
    "plt.plot(range(len(train_acc)), train_acc, label=\"train accuracy\")\n",
    "plt.plot(range(len(valid_acc)), valid_acc, label=\"valid accuracy\")\n",
    "plt.legend()\n",
    "plt.title(\"Accuracy\")\n",
    "plt.show()"
   ]
  },
  {
   "cell_type": "code",
   "execution_count": null,
   "metadata": {},
   "outputs": [],
   "source": []
  }
 ],
 "metadata": {
  "kernelspec": {
   "display_name": "Python 3",
   "language": "python",
   "name": "python3"
  },
  "language_info": {
   "codemirror_mode": {
    "name": "ipython",
    "version": 3
   },
   "file_extension": ".py",
   "mimetype": "text/x-python",
   "name": "python",
   "nbconvert_exporter": "python",
   "pygments_lexer": "ipython3",
   "version": "3.7.4"
  }
 },
 "nbformat": 4,
 "nbformat_minor": 2
}
