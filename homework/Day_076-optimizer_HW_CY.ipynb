{
 "cells": [
  {
   "cell_type": "markdown",
   "metadata": {},
   "source": [
    "# 作業重點:\n",
    "\n",
    "(1)以, Adam, 為例, 調整 batch_size, epoch , 觀察accurancy, loss 的變化\n",
    "\n",
    "(2)以同一模型, 分別驗證 SGD, Adam, Rmsprop 的 accurancy"
   ]
  },
  {
   "cell_type": "markdown",
   "metadata": {},
   "source": [
    "# 作業目標:\n",
    "    \n",
    "    取得各種優化器的運算結果"
   ]
  },
  {
   "cell_type": "code",
   "execution_count": 43,
   "metadata": {},
   "outputs": [],
   "source": [
    "from __future__ import print_function\n",
    "import keras\n",
    "from keras.datasets import cifar10\n",
    "from keras.preprocessing.image import ImageDataGenerator\n",
    "from keras.models import Sequential\n",
    "from keras.layers import Dense, Dropout, Activation, Flatten\n",
    "from keras.layers import Conv2D, MaxPooling2D\n",
    "import os\n",
    "from keras import optimizers\n"
   ]
  },
  {
   "cell_type": "code",
   "execution_count": 44,
   "metadata": {},
   "outputs": [],
   "source": [
    "#Blas GEMM launch failed , 避免動態分配GPU / CPU, 出現問題\n",
    "import tensorflow as tf\n",
    "gpu_options = tf.GPUOptions(per_process_gpu_memory_fraction=0.333)\n",
    "sess = tf.Session(config=tf.ConfigProto(gpu_options=gpu_options))\n"
   ]
  },
  {
   "cell_type": "code",
   "execution_count": 45,
   "metadata": {},
   "outputs": [],
   "source": [
    "\n",
    "'''\n",
    "   宣告並設定\n",
    "   batch_size：對總的樣本數進行分組，每組包含的樣本數量\n",
    "   epochs ：訓練次數\n",
    "   \n",
    "''' \n",
    "\n",
    "#batch_size = 32\n",
    "num_classes = 10\n",
    "#epochs = 20\n",
    "data_augmentation = True\n",
    "num_predictions = 20\n",
    "save_dir = os.path.join(os.getcwd(), 'saved_models')\n",
    "model_name = 'keras_cifar10_trained_model.h5'\n"
   ]
  },
  {
   "cell_type": "code",
   "execution_count": 46,
   "metadata": {},
   "outputs": [
    {
     "name": "stdout",
     "output_type": "stream",
     "text": [
      "x_train shape: (50000, 32, 32, 3)\n",
      "50000 train samples\n",
      "10000 test samples\n"
     ]
    }
   ],
   "source": [
    "\n",
    "# The data, split between train and test sets:\n",
    "(x_train, y_train), (x_test, y_test) = cifar10.load_data()\n",
    "print('x_train shape:', x_train.shape)\n",
    "print(x_train.shape[0], 'train samples')\n",
    "print(x_test.shape[0], 'test samples')\n",
    "\n",
    "# Convert class vectors to binary class matrices.\n",
    "y_train = keras.utils.to_categorical(y_train, num_classes)\n",
    "y_test = keras.utils.to_categorical(y_test, num_classes)"
   ]
  },
  {
   "cell_type": "code",
   "execution_count": 47,
   "metadata": {},
   "outputs": [],
   "source": [
    "#    第一步：選擇模型, 順序模型是多個網絡層的線性堆疊\n",
    " \n",
    "model = Sequential()\n",
    "\n",
    "#   第二步：構建網絡層\n",
    "model.add(Conv2D(32, (3, 3), padding='same',\n",
    "                 input_shape=x_train.shape[1:]))\n",
    "model.add(Activation('relu'))\n",
    "model.add(Conv2D(32, (3, 3)))\n",
    "model.add(Activation('relu'))\n",
    "model.add(MaxPooling2D(pool_size=(2, 2)))\n",
    "model.add(Dropout(0.25))\n",
    "\n",
    "model.add(Conv2D(64, (3, 3), padding='same'))\n",
    "model.add(Activation('relu'))\n",
    "model.add(Conv2D(64, (3, 3)))\n",
    "model.add(Activation('relu'))\n",
    "model.add(MaxPooling2D(pool_size=(2, 2)))\n",
    "model.add(Dropout(0.25))\n",
    "\n",
    "model.add(Flatten())\n",
    "model.add(Dense(512))\n",
    "model.add(Activation('relu'))\n",
    "model.add(Dropout(0.5))\n",
    "\n",
    "model.add(Dense( 10)) # 輸出結果是10個類別，所以維度是10   \n",
    "model.add(Activation('softmax')) # 最後一層用softmax作為激活函數"
   ]
  },
  {
   "cell_type": "code",
   "execution_count": 48,
   "metadata": {},
   "outputs": [
    {
     "name": "stdout",
     "output_type": "stream",
     "text": [
      "Total Parameters：1250858\n"
     ]
    }
   ],
   "source": [
    "# 模型建立完成後，統計參數總量\n",
    "print(\"Total Parameters：%d\" % model.count_params())"
   ]
  },
  {
   "cell_type": "code",
   "execution_count": 49,
   "metadata": {},
   "outputs": [
    {
     "name": "stdout",
     "output_type": "stream",
     "text": [
      "Model: \"sequential_4\"\n",
      "_________________________________________________________________\n",
      "Layer (type)                 Output Shape              Param #   \n",
      "=================================================================\n",
      "conv2d_13 (Conv2D)           (None, 32, 32, 32)        896       \n",
      "_________________________________________________________________\n",
      "activation_19 (Activation)   (None, 32, 32, 32)        0         \n",
      "_________________________________________________________________\n",
      "conv2d_14 (Conv2D)           (None, 30, 30, 32)        9248      \n",
      "_________________________________________________________________\n",
      "activation_20 (Activation)   (None, 30, 30, 32)        0         \n",
      "_________________________________________________________________\n",
      "max_pooling2d_7 (MaxPooling2 (None, 15, 15, 32)        0         \n",
      "_________________________________________________________________\n",
      "dropout_10 (Dropout)         (None, 15, 15, 32)        0         \n",
      "_________________________________________________________________\n",
      "conv2d_15 (Conv2D)           (None, 15, 15, 64)        18496     \n",
      "_________________________________________________________________\n",
      "activation_21 (Activation)   (None, 15, 15, 64)        0         \n",
      "_________________________________________________________________\n",
      "conv2d_16 (Conv2D)           (None, 13, 13, 64)        36928     \n",
      "_________________________________________________________________\n",
      "activation_22 (Activation)   (None, 13, 13, 64)        0         \n",
      "_________________________________________________________________\n",
      "max_pooling2d_8 (MaxPooling2 (None, 6, 6, 64)          0         \n",
      "_________________________________________________________________\n",
      "dropout_11 (Dropout)         (None, 6, 6, 64)          0         \n",
      "_________________________________________________________________\n",
      "flatten_4 (Flatten)          (None, 2304)              0         \n",
      "_________________________________________________________________\n",
      "dense_7 (Dense)              (None, 512)               1180160   \n",
      "_________________________________________________________________\n",
      "activation_23 (Activation)   (None, 512)               0         \n",
      "_________________________________________________________________\n",
      "dropout_12 (Dropout)         (None, 512)               0         \n",
      "_________________________________________________________________\n",
      "dense_8 (Dense)              (None, 10)                5130      \n",
      "_________________________________________________________________\n",
      "activation_24 (Activation)   (None, 10)                0         \n",
      "=================================================================\n",
      "Total params: 1,250,858\n",
      "Trainable params: 1,250,858\n",
      "Non-trainable params: 0\n",
      "_________________________________________________________________\n"
     ]
    }
   ],
   "source": [
    "# 輸出模型摘要資訊\n",
    "model.summary()"
   ]
  },
  {
   "cell_type": "code",
   "execution_count": 50,
   "metadata": {},
   "outputs": [],
   "source": [
    "#第三步編譯\n",
    "#  '''\n",
    "#  SGD(隨機梯度下降) - Arguments\n",
    "# lr: float >= 0. Learning rate.\n",
    "# momentum: float >= 0. Parameter that accelerates SGD in the relevant direction and dampens oscillations.\n",
    "# decay: float >= 0. Learning rate decay over each update.\n",
    "# nesterov: boolean. Whether to apply Nesterov momentum.\n",
    "# '''\n",
    "\n",
    "# '''\n",
    "# RMSprop- Arguments\n",
    "# lr: float >= 0. Learning rate.\n",
    "# rho: float >= 0.\n",
    "# epsilon: float >= 0. Fuzz factor. If None, defaults to K.epsilon().\n",
    "# decay: float >= 0. Learning rate decay over each update.\n",
    "# '''\n",
    "\n",
    "# '''\n",
    "# Example:\n",
    "# opt = optimizers.SGD(lr=0.01, decay=1e-6, momentum=0.9, nesterov=True)\n",
    "\n",
    "# '''\n",
    "\n",
    "#opt = optimizers.SGD(lr=0.01, decay=1e-6, momentum=0.9, nesterov=True)\n",
    "\n",
    "opt = optimizers.Adam(lr=0.001, beta_1=0.9, beta_2=0.999, epsilon=1e-08)\n",
    "model.compile(optimizer = opt, loss = 'categorical_crossentropy', metrics = ['accuracy'])\n"
   ]
  },
  {
   "cell_type": "code",
   "execution_count": 51,
   "metadata": {},
   "outputs": [],
   "source": [
    "# 資料正規化\n",
    "x_train = x_train.astype('float32')\n",
    "x_test = x_test.astype('float32')\n",
    "x_train /= 255\n",
    "x_test /= 255\n"
   ]
  },
  {
   "cell_type": "code",
   "execution_count": 52,
   "metadata": {},
   "outputs": [
    {
     "name": "stdout",
     "output_type": "stream",
     "text": [
      "Using real-time data augmentation.\n",
      "\n",
      "Train on 50000 samples, validate on 10000 samples\n",
      "Epoch 1/40\n",
      "50000/50000 [==============================] - 7s 145us/step - loss: 1.5494 - acc: 0.4347 - val_loss: 1.1506 - val_acc: 0.5900\n",
      "Epoch 2/40\n",
      "50000/50000 [==============================] - 7s 132us/step - loss: 1.1341 - acc: 0.5964 - val_loss: 0.9816 - val_acc: 0.6520\n",
      "Epoch 3/40\n",
      "50000/50000 [==============================] - 7s 131us/step - loss: 0.9672 - acc: 0.6599 - val_loss: 0.8801 - val_acc: 0.6933\n",
      "Epoch 4/40\n",
      "50000/50000 [==============================] - 7s 133us/step - loss: 0.8678 - acc: 0.6959 - val_loss: 0.7782 - val_acc: 0.7311\n",
      "Epoch 5/40\n",
      "50000/50000 [==============================] - 7s 133us/step - loss: 0.7973 - acc: 0.7201 - val_loss: 0.7856 - val_acc: 0.7281\n",
      "Epoch 6/40\n",
      "50000/50000 [==============================] - 7s 132us/step - loss: 0.7430 - acc: 0.7391 - val_loss: 0.7187 - val_acc: 0.7499\n",
      "Epoch 7/40\n",
      "50000/50000 [==============================] - 7s 132us/step - loss: 0.7026 - acc: 0.7559 - val_loss: 0.6669 - val_acc: 0.7666\n",
      "Epoch 8/40\n",
      "50000/50000 [==============================] - 7s 131us/step - loss: 0.6643 - acc: 0.7680 - val_loss: 0.6946 - val_acc: 0.7648\n",
      "Epoch 9/40\n",
      "50000/50000 [==============================] - 7s 130us/step - loss: 0.6342 - acc: 0.7783 - val_loss: 0.6587 - val_acc: 0.7742\n",
      "Epoch 10/40\n",
      "50000/50000 [==============================] - 7s 131us/step - loss: 0.6067 - acc: 0.7873 - val_loss: 0.6510 - val_acc: 0.7748\n",
      "Epoch 11/40\n",
      "50000/50000 [==============================] - 7s 131us/step - loss: 0.5816 - acc: 0.7951 - val_loss: 0.6267 - val_acc: 0.7837\n",
      "Epoch 12/40\n",
      "50000/50000 [==============================] - 7s 132us/step - loss: 0.5631 - acc: 0.8026 - val_loss: 0.6262 - val_acc: 0.7838\n",
      "Epoch 13/40\n",
      "50000/50000 [==============================] - 7s 132us/step - loss: 0.5370 - acc: 0.8094 - val_loss: 0.6181 - val_acc: 0.7910\n",
      "Epoch 14/40\n",
      "50000/50000 [==============================] - 7s 130us/step - loss: 0.5242 - acc: 0.8144 - val_loss: 0.6526 - val_acc: 0.7793\n",
      "Epoch 15/40\n",
      "50000/50000 [==============================] - 7s 131us/step - loss: 0.5052 - acc: 0.8206 - val_loss: 0.5987 - val_acc: 0.7968\n",
      "Epoch 16/40\n",
      "50000/50000 [==============================] - 7s 132us/step - loss: 0.4874 - acc: 0.8282 - val_loss: 0.6174 - val_acc: 0.7916\n",
      "Epoch 17/40\n",
      "50000/50000 [==============================] - 7s 133us/step - loss: 0.4741 - acc: 0.8336 - val_loss: 0.6668 - val_acc: 0.7829\n",
      "Epoch 18/40\n",
      "50000/50000 [==============================] - 7s 132us/step - loss: 0.4636 - acc: 0.8353 - val_loss: 0.6368 - val_acc: 0.7909\n",
      "Epoch 19/40\n",
      "50000/50000 [==============================] - 7s 131us/step - loss: 0.4467 - acc: 0.8432 - val_loss: 0.6098 - val_acc: 0.8031\n",
      "Epoch 20/40\n",
      "50000/50000 [==============================] - 7s 131us/step - loss: 0.4461 - acc: 0.8419 - val_loss: 0.6091 - val_acc: 0.7978\n",
      "Epoch 21/40\n",
      "50000/50000 [==============================] - 7s 134us/step - loss: 0.4284 - acc: 0.8485 - val_loss: 0.6573 - val_acc: 0.7880\n",
      "Epoch 22/40\n",
      "50000/50000 [==============================] - 7s 134us/step - loss: 0.4261 - acc: 0.8501 - val_loss: 0.6091 - val_acc: 0.7983\n",
      "Epoch 23/40\n",
      "50000/50000 [==============================] - 7s 133us/step - loss: 0.4121 - acc: 0.8540 - val_loss: 0.6376 - val_acc: 0.7892\n",
      "Epoch 24/40\n",
      "50000/50000 [==============================] - 7s 133us/step - loss: 0.4013 - acc: 0.8564 - val_loss: 0.6310 - val_acc: 0.7942\n",
      "Epoch 25/40\n",
      "50000/50000 [==============================] - 7s 133us/step - loss: 0.4023 - acc: 0.8588 - val_loss: 0.6163 - val_acc: 0.7995\n",
      "Epoch 26/40\n",
      "50000/50000 [==============================] - 7s 133us/step - loss: 0.3851 - acc: 0.8620 - val_loss: 0.6226 - val_acc: 0.8007\n",
      "Epoch 27/40\n",
      "50000/50000 [==============================] - 7s 133us/step - loss: 0.3856 - acc: 0.8647 - val_loss: 0.6304 - val_acc: 0.7974\n",
      "Epoch 28/40\n",
      "50000/50000 [==============================] - 7s 137us/step - loss: 0.3809 - acc: 0.8663 - val_loss: 0.6369 - val_acc: 0.8028\n",
      "Epoch 29/40\n",
      "50000/50000 [==============================] - 7s 138us/step - loss: 0.3775 - acc: 0.8655 - val_loss: 0.6242 - val_acc: 0.8043\n",
      "Epoch 30/40\n",
      "50000/50000 [==============================] - 7s 133us/step - loss: 0.3690 - acc: 0.8679 - val_loss: 0.6495 - val_acc: 0.8009\n",
      "Epoch 31/40\n",
      "50000/50000 [==============================] - 7s 134us/step - loss: 0.3572 - acc: 0.8737 - val_loss: 0.6529 - val_acc: 0.8001\n",
      "Epoch 32/40\n",
      "50000/50000 [==============================] - 7s 133us/step - loss: 0.3571 - acc: 0.8738 - val_loss: 0.6348 - val_acc: 0.8066\n",
      "Epoch 33/40\n",
      "50000/50000 [==============================] - 7s 133us/step - loss: 0.3574 - acc: 0.8749 - val_loss: 0.6332 - val_acc: 0.8027\n",
      "Epoch 34/40\n",
      "50000/50000 [==============================] - 7s 133us/step - loss: 0.3510 - acc: 0.8770 - val_loss: 0.6343 - val_acc: 0.7976\n",
      "Epoch 35/40\n",
      "50000/50000 [==============================] - 7s 133us/step - loss: 0.3335 - acc: 0.8798 - val_loss: 0.6644 - val_acc: 0.7997\n",
      "Epoch 36/40\n",
      "50000/50000 [==============================] - 7s 133us/step - loss: 0.3448 - acc: 0.8791 - val_loss: 0.6415 - val_acc: 0.8000\n",
      "Epoch 37/40\n",
      "50000/50000 [==============================] - 7s 134us/step - loss: 0.3337 - acc: 0.8835 - val_loss: 0.6672 - val_acc: 0.8054\n",
      "Epoch 38/40\n",
      "50000/50000 [==============================] - 7s 134us/step - loss: 0.3300 - acc: 0.8848 - val_loss: 0.6552 - val_acc: 0.8044\n",
      "Epoch 39/40\n",
      "50000/50000 [==============================] - 7s 133us/step - loss: 0.3251 - acc: 0.8852 - val_loss: 0.6443 - val_acc: 0.8029\n",
      "Epoch 40/40\n",
      "50000/50000 [==============================] - 7s 133us/step - loss: 0.3265 - acc: 0.8859 - val_loss: 0.6726 - val_acc: 0.8010\n"
     ]
    },
    {
     "data": {
      "text/plain": [
       "'\\n   第四步：訓練\\n   .fit的一些參數\\n   batch_size：對總的樣本數進行分組，每組包含的樣本數量\\n   epochs ：訓練次數\\n   shuffle：是否把數據隨機打亂之後再進行訓練\\n   validation_split：拿出百分之多少用來做交叉驗證\\n   verbose：屏顯模式 - 0：不輸出, 1：輸出進度, 2：輸出每次的訓練結果\\n'"
      ]
     },
     "execution_count": 52,
     "metadata": {},
     "output_type": "execute_result"
    }
   ],
   "source": [
    "# 是否要做資料處理\n",
    "if not data_augmentation:\n",
    "    print('Not using data augmentation.')\n",
    "    history=model.fit(x_train, y_train,\n",
    "              batch_size=batch_size,\n",
    "              epochs=epochs,\n",
    "              validation_data=(x_test, y_test),\n",
    "              shuffle=True)\n",
    "else:\n",
    "    print('Using real-time data augmentation.')\n",
    "    print('')\n",
    "        \n",
    "    # This will do preprocessing and realtime data augmentation:\n",
    "    datagen = ImageDataGenerator(\n",
    "        featurewise_center=False,  # set input mean to 0 over the dataset\n",
    "        samplewise_center=False,  # set each sample mean to 0\n",
    "        featurewise_std_normalization=False,  # divide inputs by std of the dataset\n",
    "        samplewise_std_normalization=False,  # divide each input by its std\n",
    "        zca_whitening=False,  # apply ZCA whitening\n",
    "        zca_epsilon=1e-06,  # epsilon for ZCA whitening\n",
    "        rotation_range=0,  # randomly rotate images in the range (degrees, 0 to 180)\n",
    "        # randomly shift images horizontally (fraction of total width)\n",
    "        width_shift_range=0.1,\n",
    "        # randomly shift images vertically (fraction of total height)\n",
    "        height_shift_range=0.1,\n",
    "        shear_range=0.,  # set range for random shear\n",
    "        zoom_range=0.,  # set range for random zoom\n",
    "        channel_shift_range=0.,  # set range for random channel shifts\n",
    "        # set mode for filling points outside the input boundaries\n",
    "        fill_mode='nearest',\n",
    "        cval=0.,  # value used for fill_mode = \"constant\"\n",
    "        horizontal_flip=True,  # randomly flip images\n",
    "        vertical_flip=False,  # randomly flip images\n",
    "        # set rescaling factor (applied before any other transformation)\n",
    "        rescale=None,\n",
    "        # set function that will be applied on each input\n",
    "        preprocessing_function=None,\n",
    "        # image data format, either \"channels_first\" or \"channels_last\"\n",
    "        data_format=None,\n",
    "        # fraction of images reserved for validation (strictly between 0 and 1)\n",
    "        validation_split=0.0)\n",
    "\n",
    "    # Compute quantities required for feature-wise normalization\n",
    "    # (std, mean, and principal components if ZCA whitening is applied).\n",
    "    datagen.fit(x_train)\n",
    "    \n",
    "    batch_size = 64\n",
    "    epochs = 40\n",
    "    \n",
    "    history=model.fit(x_train, y_train,\n",
    "              batch_size=batch_size,\n",
    "              epochs=epochs,\n",
    "              validation_data=(x_test, y_test),\n",
    "              shuffle=True)   \n",
    "\n",
    "'''\n",
    "   第四步：訓練\n",
    "   .fit的一些參數\n",
    "   batch_size：對總的樣本數進行分組，每組包含的樣本數量\n",
    "   epochs ：訓練次數\n",
    "   shuffle：是否把數據隨機打亂之後再進行訓練\n",
    "   validation_split：拿出百分之多少用來做交叉驗證\n",
    "   verbose：屏顯模式 - 0：不輸出, 1：輸出進度, 2：輸出每次的訓練結果\n",
    "''' \n",
    "    "
   ]
  },
  {
   "cell_type": "code",
   "execution_count": 53,
   "metadata": {},
   "outputs": [
    {
     "name": "stdout",
     "output_type": "stream",
     "text": [
      "Saved trained model at C:\\Users\\jcodeboy\\ML_3rd\\saved_models\\keras_cifar10_trained_model.h5 \n",
      "10000/10000 [==============================] - 1s 62us/step\n",
      "Test loss: 0.6725989279270173\n",
      "Test accuracy: 0.801\n"
     ]
    }
   ],
   "source": [
    "# Save model and weights\n",
    "if not os.path.isdir(save_dir):\n",
    "    os.makedirs(save_dir)\n",
    "model_path = os.path.join(save_dir, model_name)\n",
    "model.save(model_path)\n",
    "print('Saved trained model at %s ' % model_path)\n",
    "\n",
    "# Score trained model.\n",
    "scores = model.evaluate(x_test, y_test, verbose=1)\n",
    "print('Test loss:', scores[0])\n",
    "print('Test accuracy:', scores[1])"
   ]
  },
  {
   "cell_type": "code",
   "execution_count": 54,
   "metadata": {},
   "outputs": [
    {
     "name": "stdout",
     "output_type": "stream",
     "text": [
      " test set \n",
      "\n",
      " The test loss is %f  [0.6725989365577698, 0.8009999978542328]\n"
     ]
    }
   ],
   "source": [
    "#    第六步：輸出\n",
    "import numpy \n",
    "\n",
    "print ( \" test set \" )\n",
    "scores = model.evaluate(x_test,y_test,batch_size=200,verbose= 0)\n",
    "print ( \"\" )\n",
    "#print ( \" The test loss is %f \" % scores)\n",
    "print ( \" The test loss is %f \", scores)\n",
    "\n",
    "\n",
    "result = model.predict(x_test,batch_size=200,verbose= 0)\n",
    "\n",
    "result_max = numpy.argmax(result, axis = 1 )\n",
    "test_max = numpy.argmax(y_test, axis = 1 )\n",
    "\n",
    "result_bool = numpy.equal(result_max, test_max)\n",
    "true_num = numpy.sum(result_bool)\n"
   ]
  },
  {
   "cell_type": "code",
   "execution_count": 55,
   "metadata": {},
   "outputs": [
    {
     "data": {
      "image/png": "[encoded data removed]",
      "text/plain": [
       "<Figure size 432x288 with 1 Axes>"
      ]
     },
     "metadata": {
      "needs_background": "light"
     },
     "output_type": "display_data"
    },
    {
     "data": {
      "image/png": "[encoded data removed]",
      "text/plain": [
       "<Figure size 432x288 with 1 Axes>"
      ]
     },
     "metadata": {
      "needs_background": "light"
     },
     "output_type": "display_data"
    }
   ],
   "source": [
    "import matplotlib.pyplot as plt\n",
    "%matplotlib inline\n",
    "\n",
    "# Plot training & validation accuracy values\n",
    "plt.plot(history.history['acc'])\n",
    "plt.plot(history.history['val_acc'])\n",
    "plt.title('Model accuracy')\n",
    "plt.ylabel('Accuracy')\n",
    "plt.xlabel('Epoch')\n",
    "plt.legend(['Train', 'Valiidation'], loc='upper left')\n",
    "plt.show()\n",
    "\n",
    "# Plot training & validation loss values\n",
    "plt.plot(history.history['loss'])\n",
    "plt.plot(history.history['val_loss'])\n",
    "plt.title('Model loss')\n",
    "plt.ylabel('Loss')\n",
    "plt.xlabel('Epoch')\n",
    "plt.legend(['Train', 'Valiidation'], loc='upper left')\n",
    "plt.show()"
   ]
  }
 ],
 "metadata": {
  "kernelspec": {
   "display_name": "Python 3",
   "language": "python",
   "name": "python3"
  },
  "language_info": {
   "codemirror_mode": {
    "name": "ipython",
    "version": 3
   },
   "file_extension": ".py",
   "mimetype": "text/x-python",
   "name": "python",
   "nbconvert_exporter": "python",
   "pygments_lexer": "ipython3",
   "version": "3.7.4"
  }
 },
 "nbformat": 4,
 "nbformat_minor": 2
}
