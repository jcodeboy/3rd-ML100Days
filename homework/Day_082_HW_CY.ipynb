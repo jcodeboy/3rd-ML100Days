{
 "cells": [
  {
   "cell_type": "markdown",
   "metadata": {},
   "source": [
    "## Work\n",
    "1. 請比較使用不同層數以及不同 Dropout rate 對訓練的效果\n",
    "2. 將 optimizer 改成使用 Adam 並加上適當的 dropout rate 檢視結果"
   ]
  },
  {
   "cell_type": "code",
   "execution_count": 1,
   "metadata": {},
   "outputs": [
    {
     "name": "stderr",
     "output_type": "stream",
     "text": [
      "Using TensorFlow backend.\n"
     ]
    }
   ],
   "source": [
    "import os\n",
    "import keras\n",
    "import itertools\n",
    "# Disable GPU\n",
    "#os.environ[\"CUDA_VISIBLE_DEVICES\"] = \"\""
   ]
  },
  {
   "cell_type": "code",
   "execution_count": 2,
   "metadata": {},
   "outputs": [],
   "source": [
    "train, test = keras.datasets.cifar10.load_data()"
   ]
  },
  {
   "cell_type": "code",
   "execution_count": 3,
   "metadata": {},
   "outputs": [],
   "source": [
    "## 資料前處理\n",
    "def preproc_x(x, flatten=True):\n",
    "    x = x / 255.\n",
    "    if flatten:\n",
    "        x = x.reshape((len(x), -1))\n",
    "    return x\n",
    "\n",
    "def preproc_y(y, num_classes=10):\n",
    "    if y.shape[-1] == 1:\n",
    "        y = keras.utils.to_categorical(y, num_classes)\n",
    "    return y    "
   ]
  },
  {
   "cell_type": "code",
   "execution_count": 4,
   "metadata": {},
   "outputs": [],
   "source": [
    "x_train, y_train = train\n",
    "x_test, y_test = test\n",
    "\n",
    "# Preproc the inputs\n",
    "x_train = preproc_x(x_train)\n",
    "x_test = preproc_x(x_test)\n",
    "\n",
    "# Preprc the outputs\n",
    "y_train = preproc_y(y_train)\n",
    "y_test = preproc_y(y_test)"
   ]
  },
  {
   "cell_type": "code",
   "execution_count": 5,
   "metadata": {},
   "outputs": [],
   "source": [
    "\n",
    "from keras.layers import Dropout\n",
    "\n",
    "\"\"\"\n",
    "建立神經網路，並加入 dropout layer\n",
    "\"\"\"\n",
    "def build_mlp(input_shape, output_units=10, num_neurons=[512, 256, 128], drp_ratio=0.2):\n",
    "    input_layer = keras.layers.Input(input_shape)\n",
    "    \n",
    "    for i, n_units in enumerate(num_neurons):\n",
    "        if i == 0:\n",
    "            x = keras.layers.Dense(units=n_units, \n",
    "                                   activation=\"relu\", \n",
    "                                   name=\"hidden_layer\"+str(i+1))(input_layer)\n",
    "            x = Dropout(drp_ratio)(x)\n",
    "        else:\n",
    "            x = keras.layers.Dense(units=n_units, \n",
    "                                   activation=\"relu\", \n",
    "                                   name=\"hidden_layer\"+str(i+1))(x)\n",
    "            x = Dropout(drp_ratio)(x)\n",
    "    \n",
    "    out = keras.layers.Dense(units=output_units, activation=\"softmax\", name=\"output\")(x)\n",
    "    \n",
    "    model = keras.models.Model(inputs=[input_layer], outputs=[out])\n",
    "    return model"
   ]
  },
  {
   "cell_type": "code",
   "execution_count": 6,
   "metadata": {},
   "outputs": [],
   "source": [
    "\"\"\"Code Here\n",
    "設定超參數\n",
    "\"\"\"\n",
    "LEARNING_RATE = 1e-3\n",
    "EPOCHS = 50\n",
    "BATCH_SIZE = 256\n",
    "MOMENTUM = 0.95\n",
    "Dropout_EXP = 0.25"
   ]
  },
  {
   "cell_type": "code",
   "execution_count": 7,
   "metadata": {
    "scrolled": true
   },
   "outputs": [
    {
     "name": "stderr",
     "output_type": "stream",
     "text": [
      "WARNING: Logging before flag parsing goes to stderr.\n",
      "W1208 12:38:22.626405  1184 deprecation_wrapper.py:119] From C:\\Users\\jcodeboy\\Anaconda3\\envs\\tensorflow-GPU\\lib\\site-packages\\keras\\backend\\tensorflow_backend.py:66: The name tf.get_default_graph is deprecated. Please use tf.compat.v1.get_default_graph instead.\n",
      "\n",
      "W1208 12:38:22.656324  1184 deprecation_wrapper.py:119] From C:\\Users\\jcodeboy\\Anaconda3\\envs\\tensorflow-GPU\\lib\\site-packages\\keras\\backend\\tensorflow_backend.py:541: The name tf.placeholder is deprecated. Please use tf.compat.v1.placeholder instead.\n",
      "\n",
      "W1208 12:38:22.663308  1184 deprecation_wrapper.py:119] From C:\\Users\\jcodeboy\\Anaconda3\\envs\\tensorflow-GPU\\lib\\site-packages\\keras\\backend\\tensorflow_backend.py:4432: The name tf.random_uniform is deprecated. Please use tf.random.uniform instead.\n",
      "\n",
      "W1208 12:38:22.678266  1184 deprecation_wrapper.py:119] From C:\\Users\\jcodeboy\\Anaconda3\\envs\\tensorflow-GPU\\lib\\site-packages\\keras\\backend\\tensorflow_backend.py:148: The name tf.placeholder_with_default is deprecated. Please use tf.compat.v1.placeholder_with_default instead.\n",
      "\n",
      "W1208 12:38:22.684282  1184 deprecation.py:506] From C:\\Users\\jcodeboy\\Anaconda3\\envs\\tensorflow-GPU\\lib\\site-packages\\keras\\backend\\tensorflow_backend.py:3733: calling dropout (from tensorflow.python.ops.nn_ops) with keep_prob is deprecated and will be removed in a future version.\n",
      "Instructions for updating:\n",
      "Please use `rate` instead of `keep_prob`. Rate should be set to `rate = 1 - keep_prob`.\n",
      "W1208 12:38:22.757055  1184 deprecation_wrapper.py:119] From C:\\Users\\jcodeboy\\Anaconda3\\envs\\tensorflow-GPU\\lib\\site-packages\\keras\\optimizers.py:793: The name tf.train.Optimizer is deprecated. Please use tf.compat.v1.train.Optimizer instead.\n",
      "\n",
      "W1208 12:38:22.765034  1184 deprecation_wrapper.py:119] From C:\\Users\\jcodeboy\\Anaconda3\\envs\\tensorflow-GPU\\lib\\site-packages\\keras\\backend\\tensorflow_backend.py:3576: The name tf.log is deprecated. Please use tf.math.log instead.\n",
      "\n",
      "W1208 12:38:22.863770  1184 deprecation.py:323] From C:\\Users\\jcodeboy\\Anaconda3\\envs\\tensorflow-GPU\\lib\\site-packages\\tensorflow\\python\\ops\\math_grad.py:1250: add_dispatch_support.<locals>.wrapper (from tensorflow.python.ops.array_ops) is deprecated and will be removed in a future version.\n",
      "Instructions for updating:\n",
      "Use tf.where in 2.0, which has the same broadcast rule as np.where\n"
     ]
    },
    {
     "name": "stdout",
     "output_type": "stream",
     "text": [
      "Model: \"model_1\"\n",
      "_________________________________________________________________\n",
      "Layer (type)                 Output Shape              Param #   \n",
      "=================================================================\n",
      "input_1 (InputLayer)         (None, 3072)              0         \n",
      "_________________________________________________________________\n",
      "hidden_layer1 (Dense)        (None, 512)               1573376   \n",
      "_________________________________________________________________\n",
      "dropout_1 (Dropout)          (None, 512)               0         \n",
      "_________________________________________________________________\n",
      "hidden_layer2 (Dense)        (None, 256)               131328    \n",
      "_________________________________________________________________\n",
      "dropout_2 (Dropout)          (None, 256)               0         \n",
      "_________________________________________________________________\n",
      "hidden_layer3 (Dense)        (None, 128)               32896     \n",
      "_________________________________________________________________\n",
      "dropout_3 (Dropout)          (None, 128)               0         \n",
      "_________________________________________________________________\n",
      "output (Dense)               (None, 10)                1290      \n",
      "=================================================================\n",
      "Total params: 1,738,890\n",
      "Trainable params: 1,738,890\n",
      "Non-trainable params: 0\n",
      "_________________________________________________________________\n",
      "Train on 50000 samples, validate on 10000 samples\n",
      "Epoch 1/50\n",
      "50000/50000 [==============================] - 7s 141us/step - loss: 2.0658 - acc: 0.2322 - val_loss: 1.8569 - val_acc: 0.3270\n",
      "Epoch 2/50\n",
      "50000/50000 [==============================] - 2s 42us/step - loss: 1.8921 - acc: 0.3108 - val_loss: 1.7751 - val_acc: 0.3645\n",
      "Epoch 3/50\n",
      "50000/50000 [==============================] - 2s 42us/step - loss: 1.8346 - acc: 0.3319 - val_loss: 1.7316 - val_acc: 0.3862\n",
      "Epoch 4/50\n",
      "50000/50000 [==============================] - 2s 42us/step - loss: 1.7910 - acc: 0.3488 - val_loss: 1.6875 - val_acc: 0.3962\n",
      "Epoch 5/50\n",
      "50000/50000 [==============================] - 2s 42us/step - loss: 1.7485 - acc: 0.3680 - val_loss: 1.6611 - val_acc: 0.4070\n",
      "Epoch 6/50\n",
      "50000/50000 [==============================] - 2s 42us/step - loss: 1.7316 - acc: 0.3715 - val_loss: 1.6251 - val_acc: 0.4280\n",
      "Epoch 7/50\n",
      "50000/50000 [==============================] - 2s 43us/step - loss: 1.7082 - acc: 0.3811 - val_loss: 1.6422 - val_acc: 0.4187\n",
      "Epoch 8/50\n",
      "50000/50000 [==============================] - 2s 42us/step - loss: 1.7010 - acc: 0.3857 - val_loss: 1.6278 - val_acc: 0.4207\n",
      "Epoch 9/50\n",
      "50000/50000 [==============================] - 2s 42us/step - loss: 1.6865 - acc: 0.3906 - val_loss: 1.5886 - val_acc: 0.4396\n",
      "Epoch 10/50\n",
      "50000/50000 [==============================] - 2s 42us/step - loss: 1.6673 - acc: 0.3982 - val_loss: 1.5813 - val_acc: 0.4401\n",
      "Epoch 11/50\n",
      "50000/50000 [==============================] - 2s 42us/step - loss: 1.6529 - acc: 0.4028 - val_loss: 1.5769 - val_acc: 0.4487\n",
      "Epoch 12/50\n",
      "50000/50000 [==============================] - 2s 41us/step - loss: 1.6490 - acc: 0.4055 - val_loss: 1.5535 - val_acc: 0.4509\n",
      "Epoch 13/50\n",
      "50000/50000 [==============================] - 2s 41us/step - loss: 1.6409 - acc: 0.4101 - val_loss: 1.5653 - val_acc: 0.4520\n",
      "Epoch 14/50\n",
      "50000/50000 [==============================] - 2s 41us/step - loss: 1.6246 - acc: 0.4144 - val_loss: 1.5338 - val_acc: 0.4632\n",
      "Epoch 15/50\n",
      "50000/50000 [==============================] - 2s 41us/step - loss: 1.6213 - acc: 0.4137 - val_loss: 1.5434 - val_acc: 0.4570\n",
      "Epoch 16/50\n",
      "50000/50000 [==============================] - 2s 41us/step - loss: 1.6143 - acc: 0.4184 - val_loss: 1.5559 - val_acc: 0.4524\n",
      "Epoch 17/50\n",
      "50000/50000 [==============================] - 2s 41us/step - loss: 1.6043 - acc: 0.4250 - val_loss: 1.5479 - val_acc: 0.4593\n",
      "Epoch 18/50\n",
      "50000/50000 [==============================] - 2s 42us/step - loss: 1.5938 - acc: 0.4273 - val_loss: 1.5392 - val_acc: 0.4540\n",
      "Epoch 19/50\n",
      "50000/50000 [==============================] - 2s 43us/step - loss: 1.5995 - acc: 0.4218 - val_loss: 1.5209 - val_acc: 0.4650\n",
      "Epoch 20/50\n",
      "50000/50000 [==============================] - 2s 42us/step - loss: 1.5946 - acc: 0.4274 - val_loss: 1.5302 - val_acc: 0.4616\n",
      "Epoch 21/50\n",
      "50000/50000 [==============================] - 2s 42us/step - loss: 1.5813 - acc: 0.4282 - val_loss: 1.5051 - val_acc: 0.4691\n",
      "Epoch 22/50\n",
      "50000/50000 [==============================] - 2s 42us/step - loss: 1.5793 - acc: 0.4329 - val_loss: 1.5176 - val_acc: 0.4655\n",
      "Epoch 23/50\n",
      "50000/50000 [==============================] - 2s 42us/step - loss: 1.5707 - acc: 0.4329 - val_loss: 1.4989 - val_acc: 0.4714\n",
      "Epoch 24/50\n",
      "50000/50000 [==============================] - 2s 42us/step - loss: 1.5746 - acc: 0.4327 - val_loss: 1.4900 - val_acc: 0.4743\n",
      "Epoch 25/50\n",
      "50000/50000 [==============================] - 2s 42us/step - loss: 1.5668 - acc: 0.4384 - val_loss: 1.5096 - val_acc: 0.4728\n",
      "Epoch 26/50\n",
      "50000/50000 [==============================] - 2s 42us/step - loss: 1.5620 - acc: 0.4407 - val_loss: 1.4874 - val_acc: 0.4743\n",
      "Epoch 27/50\n",
      "50000/50000 [==============================] - 2s 42us/step - loss: 1.5584 - acc: 0.4381 - val_loss: 1.4949 - val_acc: 0.4770\n",
      "Epoch 28/50\n",
      "50000/50000 [==============================] - 2s 42us/step - loss: 1.5512 - acc: 0.4380 - val_loss: 1.4905 - val_acc: 0.4689\n",
      "Epoch 29/50\n",
      "50000/50000 [==============================] - 2s 42us/step - loss: 1.5484 - acc: 0.4415 - val_loss: 1.5132 - val_acc: 0.4640\n",
      "Epoch 30/50\n",
      "50000/50000 [==============================] - 2s 42us/step - loss: 1.5497 - acc: 0.4411 - val_loss: 1.5096 - val_acc: 0.4669\n",
      "Epoch 31/50\n",
      "50000/50000 [==============================] - 2s 42us/step - loss: 1.5478 - acc: 0.4412 - val_loss: 1.5017 - val_acc: 0.4723\n",
      "Epoch 32/50\n",
      "50000/50000 [==============================] - 2s 42us/step - loss: 1.5345 - acc: 0.4478 - val_loss: 1.4969 - val_acc: 0.4784\n",
      "Epoch 33/50\n",
      "50000/50000 [==============================] - 2s 42us/step - loss: 1.5324 - acc: 0.4473 - val_loss: 1.4749 - val_acc: 0.4875\n",
      "Epoch 34/50\n",
      "50000/50000 [==============================] - 2s 42us/step - loss: 1.5398 - acc: 0.4460 - val_loss: 1.4555 - val_acc: 0.4897\n",
      "Epoch 35/50\n",
      "50000/50000 [==============================] - 2s 42us/step - loss: 1.5260 - acc: 0.4500 - val_loss: 1.4887 - val_acc: 0.4730\n",
      "Epoch 36/50\n",
      "50000/50000 [==============================] - 2s 42us/step - loss: 1.5312 - acc: 0.4492 - val_loss: 1.4824 - val_acc: 0.4819\n",
      "Epoch 37/50\n",
      "50000/50000 [==============================] - 2s 42us/step - loss: 1.5236 - acc: 0.4526 - val_loss: 1.5074 - val_acc: 0.4742\n",
      "Epoch 38/50\n",
      "50000/50000 [==============================] - 2s 42us/step - loss: 1.5210 - acc: 0.4528 - val_loss: 1.4901 - val_acc: 0.4757\n",
      "Epoch 39/50\n",
      "50000/50000 [==============================] - 2s 42us/step - loss: 1.5190 - acc: 0.4529 - val_loss: 1.4646 - val_acc: 0.4824\n",
      "Epoch 40/50\n",
      "50000/50000 [==============================] - 2s 42us/step - loss: 1.5193 - acc: 0.4529 - val_loss: 1.4635 - val_acc: 0.4828\n",
      "Epoch 41/50\n",
      "50000/50000 [==============================] - 2s 42us/step - loss: 1.5137 - acc: 0.4557 - val_loss: 1.4619 - val_acc: 0.4811\n",
      "Epoch 42/50\n",
      "50000/50000 [==============================] - 2s 42us/step - loss: 1.5069 - acc: 0.4574 - val_loss: 1.4773 - val_acc: 0.4761\n",
      "Epoch 43/50\n",
      "50000/50000 [==============================] - 2s 42us/step - loss: 1.5059 - acc: 0.4608 - val_loss: 1.4546 - val_acc: 0.4850\n",
      "Epoch 44/50\n",
      "50000/50000 [==============================] - 2s 42us/step - loss: 1.5078 - acc: 0.4554 - val_loss: 1.4590 - val_acc: 0.4846\n",
      "Epoch 45/50\n",
      "50000/50000 [==============================] - 2s 42us/step - loss: 1.4976 - acc: 0.4622 - val_loss: 1.4600 - val_acc: 0.4795\n",
      "Epoch 46/50\n",
      "50000/50000 [==============================] - 2s 42us/step - loss: 1.4997 - acc: 0.4602 - val_loss: 1.4714 - val_acc: 0.4836\n",
      "Epoch 47/50\n",
      "50000/50000 [==============================] - 2s 42us/step - loss: 1.5000 - acc: 0.4597 - val_loss: 1.4661 - val_acc: 0.4810\n",
      "Epoch 48/50\n",
      "50000/50000 [==============================] - 2s 42us/step - loss: 1.4943 - acc: 0.4599 - val_loss: 1.4620 - val_acc: 0.4834\n",
      "Epoch 49/50\n",
      "50000/50000 [==============================] - 2s 42us/step - loss: 1.4903 - acc: 0.4642 - val_loss: 1.4465 - val_acc: 0.4832\n"
     ]
    },
    {
     "name": "stdout",
     "output_type": "stream",
     "text": [
      "Epoch 50/50\n",
      "50000/50000 [==============================] - 2s 41us/step - loss: 1.4821 - acc: 0.4635 - val_loss: 1.4397 - val_acc: 0.4905\n"
     ]
    }
   ],
   "source": [
    "results = {}\n",
    "\"\"\"Code Here\n",
    "撰寫你的訓練流程並將結果用 dictionary 紀錄\n",
    "\"\"\"\n",
    "\n",
    "model = build_mlp(input_shape=x_train.shape[1:], drp_ratio=Dropout_EXP)\n",
    "model.summary()\n",
    "# optimizer = keras.optimizers.SGD(lr=LEARNING_RATE, nesterov=True, momentum=MOMENTUM)\n",
    "optimizer = keras.optimizers.Adam(lr=0.001, beta_1=0.9, beta_2=0.999, epsilon=1e-08)\n",
    "model.compile(loss=\"categorical_crossentropy\", metrics=[\"accuracy\"], optimizer=optimizer)\n",
    "\n",
    "model.fit(x_train, y_train, \n",
    "          epochs=EPOCHS, \n",
    "          batch_size=BATCH_SIZE, \n",
    "          validation_data=(x_test, y_test), \n",
    "          shuffle=True)\n",
    "\n",
    "# Collect results\n",
    "train_loss = model.history.history[\"loss\"]\n",
    "valid_loss = model.history.history[\"val_loss\"]\n",
    "train_acc = model.history.history[\"acc\"]\n",
    "valid_acc = model.history.history[\"val_acc\"]"
   ]
  },
  {
   "cell_type": "code",
   "execution_count": 8,
   "metadata": {},
   "outputs": [
    {
     "data": {
      "image/png": "[encoded data removed]",
      "text/plain": [
       "<Figure size 432x288 with 1 Axes>"
      ]
     },
     "metadata": {
      "needs_background": "light"
     },
     "output_type": "display_data"
    },
    {
     "data": {
      "image/png": "[encoded data removed]",
      "text/plain": [
       "<Figure size 432x288 with 1 Axes>"
      ]
     },
     "metadata": {
      "needs_background": "light"
     },
     "output_type": "display_data"
    }
   ],
   "source": [
    "import matplotlib.pyplot as plt\n",
    "%matplotlib inline\n",
    "\n",
    "plt.plot(range(len(train_loss)), train_loss, label=\"train loss\")\n",
    "plt.plot(range(len(valid_loss)), valid_loss, label=\"valid loss\")\n",
    "plt.legend()\n",
    "plt.title(\"Loss\")\n",
    "plt.show()\n",
    "\n",
    "plt.plot(range(len(train_acc)), train_acc, label=\"train accuracy\")\n",
    "plt.plot(range(len(valid_acc)), valid_acc, label=\"valid accuracy\")\n",
    "plt.legend()\n",
    "plt.title(\"Accuracy\")\n",
    "plt.show()"
   ]
  },
  {
   "cell_type": "code",
   "execution_count": null,
   "metadata": {},
   "outputs": [],
   "source": []
  }
 ],
 "metadata": {
  "kernelspec": {
   "display_name": "Python 3",
   "language": "python",
   "name": "python3"
  },
  "language_info": {
   "codemirror_mode": {
    "name": "ipython",
    "version": 3
   },
   "file_extension": ".py",
   "mimetype": "text/x-python",
   "name": "python",
   "nbconvert_exporter": "python",
   "pygments_lexer": "ipython3",
   "version": "3.7.4"
  }
 },
 "nbformat": 4,
 "nbformat_minor": 2
}
